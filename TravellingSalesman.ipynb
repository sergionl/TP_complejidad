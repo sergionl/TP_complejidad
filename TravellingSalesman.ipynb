{
  "nbformat": 4,
  "nbformat_minor": 0,
  "metadata": {
    "colab": {
      "name": "TravellingSalesman.ipynb",
      "provenance": [],
      "authorship_tag": "ABX9TyMQkOI9UM6eLs0IqMoTq7AQ",
      "include_colab_link": true
    },
    "kernelspec": {
      "name": "python3",
      "display_name": "Python 3"
    },
    "language_info": {
      "name": "python"
    }
  },
  "cells": [
    {
      "cell_type": "markdown",
      "metadata": {
        "id": "view-in-github",
        "colab_type": "text"
      },
      "source": [
        "<a href=\"https://colab.research.google.com/github/sergionl/TP_complejidad/blob/main/TravellingSalesman.ipynb\" target=\"_parent\"><img src=\"https://colab.research.google.com/assets/colab-badge.svg\" alt=\"Open In Colab\"/></a>"
      ]
    },
    {
      "cell_type": "markdown",
      "metadata": {
        "id": "KHlXi3QRjRx7"
      },
      "source": [
        "Imports"
      ]
    },
    {
      "cell_type": "code",
      "metadata": {
        "id": "7kGnMkW3jQQ0"
      },
      "source": [
        "from itertools import permutations"
      ],
      "execution_count": 1,
      "outputs": []
    },
    {
      "cell_type": "markdown",
      "metadata": {
        "id": "44lWu-ZrjY1F"
      },
      "source": [
        ""
      ]
    },
    {
      "cell_type": "code",
      "metadata": {
        "id": "9jsntbeEjZHT"
      },
      "source": [
        "def calcularDistancia(coords,pos1,pos2):\n",
        "    x1,y1=coords[pos1]\n",
        "    x2,y2=coords[pos2]\n",
        "    #distanciax\n",
        "    if x1>x2:\n",
        "        disx=x1-x2\n",
        "    elif x2>x1:\n",
        "        disx=x2-x1\n",
        "    else:\n",
        "        disx=0\n",
        "    #distanciay\n",
        "    if y1>y2:\n",
        "        disy=y1-y2\n",
        "    elif y2>y1:\n",
        "        disy=y2-y1\n",
        "    else:\n",
        "        disy=0\n",
        "    \n",
        "    return disx+disy"
      ],
      "execution_count": 2,
      "outputs": []
    },
    {
      "cell_type": "markdown",
      "metadata": {
        "id": "EC1Q_fzrjci_"
      },
      "source": [
        ""
      ]
    },
    {
      "cell_type": "code",
      "metadata": {
        "id": "eTcZJXYujcqf"
      },
      "source": [
        "def buscarCaminoCorto(combinaciones:list,coords:list,n):\n",
        "    solution = 0\n",
        "    temp = 0\n",
        "    menor = 0\n",
        "    for i in range(len(combinaciones)):\n",
        "        temp = 0\n",
        "        for j in range(0,n-1):\n",
        "            temp+=calcularDistancia(coords,combinaciones[i][j],combinaciones[i][j+1])#calcula la distancia de cada posibilidad\n",
        "        if i == 0:\n",
        "            solution = temp\n",
        "            menor = 0\n",
        "        elif solution>temp:\n",
        "            solution = temp\n",
        "            menor = int(i)\n",
        "        \n",
        "    return solution,menor"
      ],
      "execution_count": 3,
      "outputs": []
    },
    {
      "cell_type": "markdown",
      "metadata": {
        "id": "QojszH1sjhr2"
      },
      "source": [
        ""
      ]
    },
    {
      "cell_type": "code",
      "metadata": {
        "colab": {
          "base_uri": "https://localhost:8080/"
        },
        "id": "A34qlGYSjhzZ",
        "outputId": "b922de46-f335-4abb-87ee-8be6434a645e"
      },
      "source": [
        "pueblos=[\"Lima\",\"Arequipa\",\"Ica\",\"a\"]\n",
        "n = len(pueblos)\n",
        "#caminos validos\n",
        "pos = list(range(n))\n",
        "combinaciones = list(permutations(pos,n))\n",
        "#print(type(combinaciones))\n",
        "#for i in combinaciones:\n",
        "    #print(i)\n",
        "#coordenadas\n",
        "x = [0,4,1,4]\n",
        "y = [0,2,3,3]\n",
        "#poner coordenadas en formato (x,y)\n",
        "coordszip = zip(x,y)\n",
        "coords = list(coordszip)\n",
        "solucion,menor = buscarCaminoCorto(combinaciones,coords,n)\n",
        "print(\"el camino mas corto es: \" + str(combinaciones[menor]) + \" tiene una distancia de: \" + str(solucion))"
      ],
      "execution_count": 4,
      "outputs": [
        {
          "output_type": "stream",
          "text": [
            "el camino mas corto es: (0, 2, 3, 1) tiene una distancia de: 8\n"
          ],
          "name": "stdout"
        }
      ]
    }
  ]
}