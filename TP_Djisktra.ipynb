{
  "nbformat": 4,
  "nbformat_minor": 0,
  "metadata": {
    "colab": {
      "name": "TP_Djisktra.ipynb",
      "provenance": [],
      "collapsed_sections": [],
      "authorship_tag": "ABX9TyMXknDTnNJYjhEqyzaHUaNM",
      "include_colab_link": true
    },
    "kernelspec": {
      "name": "python3",
      "display_name": "Python 3"
    },
    "language_info": {
      "name": "python"
    }
  },
  "cells": [
    {
      "cell_type": "markdown",
      "metadata": {
        "id": "view-in-github",
        "colab_type": "text"
      },
      "source": [
        "<a href=\"https://colab.research.google.com/github/sergionl/TP_complejidad/blob/main/TP_Djisktra.ipynb\" target=\"_parent\"><img src=\"https://colab.research.google.com/assets/colab-badge.svg\" alt=\"Open In Colab\"/></a>"
      ]
    },
    {
      "cell_type": "markdown",
      "metadata": {
        "id": "ql2O_O8bj0qg"
      },
      "source": [
        "**Librerias**"
      ]
    },
    {
      "cell_type": "code",
      "metadata": {
        "colab": {
          "base_uri": "https://localhost:8080/"
        },
        "id": "bzstmO0Oe-EZ",
        "outputId": "515f174b-cd97-48d2-a8c9-fe2aa6e024d7"
      },
      "source": [
        "!git clone https://github.com/lmcanavals/algorithmic_complexity.git"
      ],
      "execution_count": 3,
      "outputs": [
        {
          "output_type": "stream",
          "text": [
            "Cloning into 'algorithmic_complexity'...\n",
            "remote: Enumerating objects: 268, done.\u001b[K\n",
            "remote: Counting objects: 100% (268/268), done.\u001b[K\n",
            "remote: Compressing objects: 100% (263/263), done.\u001b[K\n",
            "remote: Total 268 (delta 150), reused 0 (delta 0), pack-reused 0\u001b[K\n",
            "Receiving objects: 100% (268/268), 274.11 KiB | 2.63 MiB/s, done.\n",
            "Resolving deltas: 100% (150/150), done.\n"
          ],
          "name": "stdout"
        }
      ]
    },
    {
      "cell_type": "code",
      "metadata": {
        "id": "VyCLslEegX0b"
      },
      "source": [
        "from itertools import permutations\n",
        "from algorithmic_complexity.aclib import graphstuff as gs\n",
        "import pandas as pd\n",
        "import numpy as np\n",
        "import networkx as nx\n",
        "import math\n",
        "import heapq as pq"
      ],
      "execution_count": 4,
      "outputs": []
    },
    {
      "cell_type": "markdown",
      "metadata": {
        "id": "5TYZo_sUisoK"
      },
      "source": [
        "**DataSet**"
      ]
    },
    {
      "cell_type": "code",
      "metadata": {
        "id": "fxfQycLfiX_r"
      },
      "source": [
        "url=\"https://raw.githubusercontent.com/lmcanavals/algorithmic_complexity/main/data/poblaciones.csv\"\n",
        "poblacionesDF = pd.read_csv(url)"
      ],
      "execution_count": 5,
      "outputs": []
    },
    {
      "cell_type": "code",
      "metadata": {
        "colab": {
          "base_uri": "https://localhost:8080/",
          "height": 221
        },
        "id": "KLJSKlaejFsA",
        "outputId": "f111159d-4e5a-4bac-813a-53130bfe53ba"
      },
      "source": [
        "#Imprimir el inicio de la lista de \n",
        "print(\"Número de poblaciones: \" + str(len(poblacionesDF)))\n",
        "poblacionesDF.head()"
      ],
      "execution_count": 6,
      "outputs": [
        {
          "output_type": "stream",
          "text": [
            "Número de poblaciones: 3757\n"
          ],
          "name": "stdout"
        },
        {
          "output_type": "execute_result",
          "data": {
            "text/html": [
              "<div>\n",
              "<style scoped>\n",
              "    .dataframe tbody tr th:only-of-type {\n",
              "        vertical-align: middle;\n",
              "    }\n",
              "\n",
              "    .dataframe tbody tr th {\n",
              "        vertical-align: top;\n",
              "    }\n",
              "\n",
              "    .dataframe thead th {\n",
              "        text-align: right;\n",
              "    }\n",
              "</style>\n",
              "<table border=\"1\" class=\"dataframe\">\n",
              "  <thead>\n",
              "    <tr style=\"text-align: right;\">\n",
              "      <th></th>\n",
              "      <th>DEPARTAMENTO</th>\n",
              "      <th>PROVINCIA</th>\n",
              "      <th>DISTRITO</th>\n",
              "      <th>CENTRO POBLADO</th>\n",
              "      <th>LATITUD</th>\n",
              "      <th>LONGITUD</th>\n",
              "      <th>NMI1</th>\n",
              "      <th>NMI2</th>\n",
              "    </tr>\n",
              "  </thead>\n",
              "  <tbody>\n",
              "    <tr>\n",
              "      <th>0</th>\n",
              "      <td>AMAZONAS</td>\n",
              "      <td>BAGUA</td>\n",
              "      <td>ARAMANGO</td>\n",
              "      <td>EL MUYO (C.P.L.)</td>\n",
              "      <td>-5.422545</td>\n",
              "      <td>-78.45299</td>\n",
              "      <td>311</td>\n",
              "      <td>1206</td>\n",
              "    </tr>\n",
              "    <tr>\n",
              "      <th>1</th>\n",
              "      <td>AMAZONAS</td>\n",
              "      <td>BAGUA</td>\n",
              "      <td>ARAMANGO</td>\n",
              "      <td>RESERVA UJUCANO</td>\n",
              "      <td>-5.427565</td>\n",
              "      <td>-78.444372</td>\n",
              "      <td>44</td>\n",
              "      <td>129</td>\n",
              "    </tr>\n",
              "    <tr>\n",
              "      <th>2</th>\n",
              "      <td>AMAZONAS</td>\n",
              "      <td>BAGUA</td>\n",
              "      <td>ARAMANGO</td>\n",
              "      <td>TUTUMBEROS</td>\n",
              "      <td>-5.327317</td>\n",
              "      <td>-78.44472</td>\n",
              "      <td>49</td>\n",
              "      <td>179</td>\n",
              "    </tr>\n",
              "    <tr>\n",
              "      <th>3</th>\n",
              "      <td>AMAZONAS</td>\n",
              "      <td>BAGUA</td>\n",
              "      <td>BAGUA</td>\n",
              "      <td>ALENYA BAJO</td>\n",
              "      <td>-5.682439</td>\n",
              "      <td>-78.495229</td>\n",
              "      <td>3</td>\n",
              "      <td>8</td>\n",
              "    </tr>\n",
              "    <tr>\n",
              "      <th>4</th>\n",
              "      <td>AMAZONAS</td>\n",
              "      <td>BONGARA</td>\n",
              "      <td>CUISPES</td>\n",
              "      <td>MITOPAMPA</td>\n",
              "      <td>-5.93856</td>\n",
              "      <td>-77.965302</td>\n",
              "      <td>1</td>\n",
              "      <td>4</td>\n",
              "    </tr>\n",
              "  </tbody>\n",
              "</table>\n",
              "</div>"
            ],
            "text/plain": [
              "  DEPARTAMENTO PROVINCIA  DISTRITO  ...    LONGITUD NMI1  NMI2\n",
              "0     AMAZONAS     BAGUA  ARAMANGO  ...   -78.45299  311  1206\n",
              "1     AMAZONAS     BAGUA  ARAMANGO  ...  -78.444372   44   129\n",
              "2     AMAZONAS     BAGUA  ARAMANGO  ...   -78.44472   49   179\n",
              "3     AMAZONAS     BAGUA     BAGUA  ...  -78.495229    3     8\n",
              "4     AMAZONAS   BONGARA   CUISPES  ...  -77.965302    1     4\n",
              "\n",
              "[5 rows x 8 columns]"
            ]
          },
          "metadata": {
            "tags": []
          },
          "execution_count": 6
        }
      ]
    },
    {
      "cell_type": "code",
      "metadata": {
        "colab": {
          "base_uri": "https://localhost:8080/"
        },
        "id": "SXpkOqHsjNdn",
        "outputId": "0097d773-9f38-4ed3-cfd2-3e6148ab7d11"
      },
      "source": [
        "#Imprimir provincias de un departamento\n",
        "nomprovincias = poblacionesDF['PROVINCIA'].unique()\n",
        "print(\"Número de provincias: \" + str(len(nomprovincias)))\n",
        "nomprovincias"
      ],
      "execution_count": 7,
      "outputs": [
        {
          "output_type": "stream",
          "text": [
            "Número de provincias: 157\n"
          ],
          "name": "stdout"
        },
        {
          "output_type": "execute_result",
          "data": {
            "text/plain": [
              "array(['BAGUA', 'BONGARA', 'CHACHAPOYAS', 'UTCUBAMBA', 'ANTONIO RAYMONDI',\n",
              "       'BOLOGNESI', 'CARHUAZ', 'CASMA', 'HUARAZ', 'HUARI', 'HUAYLAS',\n",
              "       'OCROS', 'POMABAMBA', 'RECUAY', 'SANTA', 'SIHUAS', 'YUNGAY',\n",
              "       'ABANCAY', 'ANDAHUAYLAS', 'ANTABAMBA', 'AYMARAES', 'CHINCHEROS',\n",
              "       'GRAU', 'AREQUIPA', 'CAMANA', 'CARAVELI', 'CASTILLA', 'CAYLLOMA',\n",
              "       'CONDESUYOS', 'CANGALLO', 'HUAMANGA', 'HUANCA SANCOS', 'HUANTA',\n",
              "       'LUCANAS', 'PARINACOCHAS', 'VICTOR FAJARDO', 'CAJABAMBA',\n",
              "       'CAJAMARCA', 'CELENDIN', 'CHOTA', 'CONTUMAZA', 'CUTERVO', 'JAEN',\n",
              "       'SAN IGNACIO', 'SAN MARCOS', 'SAN MIGUEL', 'SAN MIMGUEL',\n",
              "       'SANTA CRUZ', 'ACOMAYO', 'CALCA', 'CANAS', 'CANCHIS',\n",
              "       'CHUMBIVILCAS', 'LA CONVENCION', 'PARURO', 'QUISPICANCHI',\n",
              "       'PROVINCIA', 'CASTROVIRREYNA', 'CHURCAMPA', 'HUANCAVELICA',\n",
              "       'HUAYTARA', 'TAYACAJA', 'AMBO', 'DOS DE MAYO', 'DOSDEMAYO',\n",
              "       'HUAMALIES', 'HUANUCO SANTA', 'HUANUCO', 'LAURICOCHA',\n",
              "       'LEONCIO PRADO', 'MARAÑON', 'PUERTO INCA', 'CHINCHA', 'ICA',\n",
              "       'NASCA', 'PALPA', 'PISCO', 'CHANCHAMAYO', 'CHUPACA', 'CONCEPCION',\n",
              "       'HUANCAYO', 'JAUJA', 'JUNIN', 'SATIPO', 'TARMA', 'ASCOPE',\n",
              "       'BOLIVAR', 'CHEPEN', 'GRAN CHIMU', 'JULCAN', 'OTUZCO', 'PACASMAYO',\n",
              "       'PATAZ', 'SANCHEZ CARRION', 'SANTIAGO DE CHUCO', 'TRUJILLO',\n",
              "       'VIRU', 'CHICLAYO', 'FERREÑAFE', 'LAMBAYEQUE', 'BARRANCA',\n",
              "       'CAJATAMBO', 'CAÑETE', 'HUARAL', 'HUAROCHIRI', 'HUAURA', 'LIMA',\n",
              "       'OYON', 'YAUYOS', 'ALTO AMAZONAS', 'LORETO',\n",
              "       'MARISCAL RAMON CASTILLA', 'MAYNAS', 'PUTUMAYO   10', 'REQUENA',\n",
              "       'UCAYALI', 'MANU', 'TAMBOPATA', 'GENERAL SANCHEZ CERRO',\n",
              "       'MARISCAL NIETO', 'DANIEL ALCIDES CARRION', 'OXAPAMPA', 'PASCO',\n",
              "       'AYABACA', 'HUANCABAMBA', 'MORROPON', 'PAITA', 'PIURA', 'SECHURA',\n",
              "       'SULLANA', 'TALARA', 'AZANGARO', 'CARABAYA', 'CHUCUITO',\n",
              "       'EL COLLAO', 'LAMPA', 'MELGAR', 'PUNO', 'SANDIA', 'BELLAVISTA',\n",
              "       'HUALLAGA', 'LAMAS', 'MARISCAL CACERES', 'MOYOBAMBA', 'PICOTA',\n",
              "       'RIOJA', 'SAN MARTIN', 'TOCACHE', 'CANDARAVE', 'JORGE BASADRE',\n",
              "       'TACNA', 'TARATA', 'CONTRALMIRANTE VILLAR', 'TUMBES', 'ZARUMILLA',\n",
              "       'CORONEL PORTILLO', 'PADRE ABAD'], dtype=object)"
            ]
          },
          "metadata": {
            "tags": []
          },
          "execution_count": 7
        }
      ]
    },
    {
      "cell_type": "code",
      "metadata": {
        "colab": {
          "base_uri": "https://localhost:8080/"
        },
        "id": "1OGCZSakmNKB",
        "outputId": "29058adc-b7d1-43d7-cc99-5cad721c8e98"
      },
      "source": [
        "#Imprimir número de distritos x provincia\n",
        "provincias = dict()\n",
        "for nom in nomprovincias:\n",
        "  provincias[nom] = poblacionesDF[poblacionesDF['PROVINCIA'] == nom]\n",
        "  print(nom, len(provincias[nom]))"
      ],
      "execution_count": 8,
      "outputs": [
        {
          "output_type": "stream",
          "text": [
            "BAGUA 4\n",
            "BONGARA 8\n",
            "CHACHAPOYAS 1\n",
            "UTCUBAMBA 12\n",
            "ANTONIO RAYMONDI 2\n",
            "BOLOGNESI 5\n",
            "CARHUAZ 20\n",
            "CASMA 14\n",
            "HUARAZ 38\n",
            "HUARI 20\n",
            "HUAYLAS 5\n",
            "OCROS 2\n",
            "POMABAMBA 21\n",
            "RECUAY 28\n",
            "SANTA 22\n",
            "SIHUAS 6\n",
            "YUNGAY 7\n",
            "ABANCAY 41\n",
            "ANDAHUAYLAS 8\n",
            "ANTABAMBA 2\n",
            "AYMARAES 23\n",
            "CHINCHEROS 12\n",
            "GRAU 1\n",
            "AREQUIPA 24\n",
            "CAMANA 16\n",
            "CARAVELI 16\n",
            "CASTILLA 1\n",
            "CAYLLOMA 20\n",
            "CONDESUYOS 3\n",
            "CANGALLO 20\n",
            "HUAMANGA 3\n",
            "HUANCA SANCOS 38\n",
            "HUANTA 7\n",
            "LUCANAS 92\n",
            "PARINACOCHAS 1\n",
            "VICTOR FAJARDO 29\n",
            "CAJABAMBA 10\n",
            "CAJAMARCA 13\n",
            "CELENDIN 16\n",
            "CHOTA 6\n",
            "CONTUMAZA 16\n",
            "CUTERVO 6\n",
            "JAEN 11\n",
            "SAN IGNACIO 2\n",
            "SAN MARCOS 2\n",
            "SAN MIGUEL 13\n",
            "SAN MIMGUEL 1\n",
            "SANTA CRUZ 1\n",
            "ACOMAYO 14\n",
            "CALCA 3\n",
            "CANAS 4\n",
            "CANCHIS 12\n",
            "CHUMBIVILCAS 3\n",
            "LA CONVENCION 13\n",
            "PARURO 14\n",
            "QUISPICANCHI 22\n",
            "PROVINCIA 1\n",
            "CASTROVIRREYNA 49\n",
            "CHURCAMPA 1\n",
            "HUANCAVELICA 6\n",
            "HUAYTARA 32\n",
            "TAYACAJA 1\n",
            "AMBO 37\n",
            "DOS DE MAYO 7\n",
            "DOSDEMAYO 1\n",
            "HUAMALIES 6\n",
            "HUANUCO SANTA 1\n",
            "HUANUCO 27\n",
            "LAURICOCHA 11\n",
            "LEONCIO PRADO 28\n",
            "MARAÑON 12\n",
            "PUERTO INCA 9\n",
            "CHINCHA 1\n",
            "ICA 60\n",
            "NASCA 6\n",
            "PALPA 30\n",
            "PISCO 14\n",
            "CHANCHAMAYO 14\n",
            "CHUPACA 13\n",
            "CONCEPCION 1\n",
            "HUANCAYO 13\n",
            "JAUJA 1\n",
            "JUNIN 2\n",
            "SATIPO 6\n",
            "TARMA 35\n",
            "ASCOPE 67\n",
            "BOLIVAR 15\n",
            "CHEPEN 82\n",
            "GRAN CHIMU 21\n",
            "JULCAN 1\n",
            "OTUZCO 2\n",
            "PACASMAYO 52\n",
            "PATAZ 8\n",
            "SANCHEZ CARRION 6\n",
            "SANTIAGO DE CHUCO 22\n",
            "TRUJILLO 68\n",
            "VIRU 1\n",
            "CHICLAYO 250\n",
            "FERREÑAFE 127\n",
            "LAMBAYEQUE 440\n",
            "BARRANCA 15\n",
            "CAJATAMBO 3\n",
            "CAÑETE 48\n",
            "HUARAL 27\n",
            "HUAROCHIRI 6\n",
            "HUAURA 23\n",
            "LIMA 2\n",
            "OYON 26\n",
            "YAUYOS 22\n",
            "ALTO AMAZONAS 7\n",
            "LORETO 23\n",
            "MARISCAL RAMON CASTILLA 23\n",
            "MAYNAS 70\n",
            "PUTUMAYO   10 3\n",
            "REQUENA 79\n",
            "UCAYALI 19\n",
            "MANU 4\n",
            "TAMBOPATA 1\n",
            "GENERAL SANCHEZ CERRO 25\n",
            "MARISCAL NIETO 24\n",
            "DANIEL ALCIDES CARRION 6\n",
            "OXAPAMPA 4\n",
            "PASCO 33\n",
            "AYABACA 13\n",
            "HUANCABAMBA 46\n",
            "MORROPON 102\n",
            "PAITA 20\n",
            "PIURA 185\n",
            "SECHURA 76\n",
            "SULLANA 56\n",
            "TALARA 6\n",
            "AZANGARO 4\n",
            "CARABAYA 36\n",
            "CHUCUITO 12\n",
            "EL COLLAO 4\n",
            "LAMPA 4\n",
            "MELGAR 7\n",
            "PUNO 5\n",
            "SANDIA 11\n",
            "BELLAVISTA 7\n",
            "HUALLAGA 3\n",
            "LAMAS 7\n",
            "MARISCAL CACERES 8\n",
            "MOYOBAMBA 9\n",
            "PICOTA 10\n",
            "RIOJA 9\n",
            "SAN MARTIN 6\n",
            "TOCACHE 9\n",
            "CANDARAVE 1\n",
            "JORGE BASADRE 7\n",
            "TACNA 11\n",
            "TARATA 14\n",
            "CONTRALMIRANTE VILLAR 15\n",
            "TUMBES 33\n",
            "ZARUMILLA 24\n",
            "CORONEL PORTILLO 159\n",
            "PADRE ABAD 4\n"
          ],
          "name": "stdout"
        }
      ]
    },
    {
      "cell_type": "code",
      "metadata": {
        "id": "Nu7DLQI4jRn0"
      },
      "source": [
        "#Seleccionar Provincia + Distrito\n",
        "no_type_checking = ''\n",
        "nom_provincia = 'TACNA' #@param {type:\"string\"}\n",
        "nom_distrito = 'CALANA' #@param {type:\"string\"}"
      ],
      "execution_count": 9,
      "outputs": []
    },
    {
      "cell_type": "code",
      "metadata": {
        "colab": {
          "base_uri": "https://localhost:8080/"
        },
        "id": "fI8FhjJSlyJd",
        "outputId": "34c4428b-fb57-4587-e521-cfdf07ada741"
      },
      "source": [
        "#Imprimir distritos x provincia seleccionada\n",
        "nombreDistritos = provincias[nom_provincia]['DISTRITO'].unique()\n",
        "print(\"Número de distritos en \" + nom_provincia + \": \" + str(len(nombreDistritos)))\n",
        "nombreDistritos"
      ],
      "execution_count": 10,
      "outputs": [
        {
          "output_type": "stream",
          "text": [
            "Número de distritos en TACNA: 3\n"
          ],
          "name": "stdout"
        },
        {
          "output_type": "execute_result",
          "data": {
            "text/plain": [
              "array(['CALANA', 'PACHIA', 'PALCA'], dtype=object)"
            ]
          },
          "metadata": {
            "tags": []
          },
          "execution_count": 10
        }
      ]
    },
    {
      "cell_type": "code",
      "metadata": {
        "colab": {
          "base_uri": "https://localhost:8080/"
        },
        "id": "RVWAiqCAm-28",
        "outputId": "256da58a-5e60-4003-9740-b420d83e3c9c"
      },
      "source": [
        "#Imprimir número de centros poblados x distrito\n",
        "distritos = dict()\n",
        "print(\"Número de centros poblados por distrito:\")\n",
        "for nom in nombreDistritos:\n",
        "  distritos[nom] = provincias[nom_provincia][provincias[nom_provincia]['DISTRITO'] == nom]\n",
        "  print(nom, len(distritos[nom]))"
      ],
      "execution_count": 11,
      "outputs": [
        {
          "output_type": "stream",
          "text": [
            "Número de centros poblados por distrito:\n",
            "CALANA 7\n",
            "PACHIA 3\n",
            "PALCA 1\n"
          ],
          "name": "stdout"
        }
      ]
    },
    {
      "cell_type": "code",
      "metadata": {
        "id": "lhVSZFIdnEre",
        "colab": {
          "base_uri": "https://localhost:8080/"
        },
        "outputId": "9a5f4df0-4486-446e-b19e-3dd906e4671b"
      },
      "source": [
        "#Imprimir centros poblados de un distrito\n",
        "distrito = distritos[nom_distrito]\n",
        "print(distrito)"
      ],
      "execution_count": 12,
      "outputs": [
        {
          "output_type": "stream",
          "text": [
            "     DEPARTAMENTO PROVINCIA DISTRITO  ...    LONGITUD NMI1 NMI2\n",
            "3497        TACNA     TACNA   CALANA  ...  -70.187133  259  747\n",
            "3498        TACNA     TACNA   CALANA  ...  -70.178213   24   64\n",
            "3499        TACNA     TACNA   CALANA  ...  -70.195068    3    4\n",
            "3500        TACNA     TACNA   CALANA  ...  -70.192863    0    0\n",
            "3501        TACNA     TACNA   CALANA  ...  -70.192825    0    0\n",
            "3502        TACNA     TACNA   CALANA  ...  -70.187133  259  747\n",
            "3503        TACNA     TACNA   CALANA  ...  -70.194209   70  252\n",
            "\n",
            "[7 rows x 8 columns]\n"
          ],
          "name": "stdout"
        }
      ]
    },
    {
      "cell_type": "code",
      "metadata": {
        "colab": {
          "base_uri": "https://localhost:8080/"
        },
        "id": "BBC0qqgzhY0W",
        "outputId": "61dac974-bb1a-4cd4-9c5a-04e1a1a07bf0"
      },
      "source": [
        "#Imprimir lista de centros poblados\n",
        "print(\"Lista de centros poblados\")\n",
        "print(\"------------------------------\")\n",
        "\n",
        "col = 'CENTRO POBLADO'\n",
        "centrosPoblados = []\n",
        "\n",
        "G = nx.Graph()\n",
        "\n",
        "for i, cp1 in distrito.iterrows():\n",
        "  print(cp1[col])\n",
        "  centrosPoblados.append(cp1[col])\n",
        "\n",
        "  #Distancia entre centros poblados\n",
        "  for j, cp2 in distrito.iterrows():\n",
        "    if cp1[col] != cp2[col]:\n",
        "      G.add_edge(cp1[col], cp2[col], weight=dist(cp1, cp2))"
      ],
      "execution_count": 20,
      "outputs": [
        {
          "output_type": "stream",
          "text": [
            "Lista de centros poblados\n",
            "------------------------------\n",
            "PIEDRA BLANCA-CERRO BLANCO-SANTA RITA-VILLA PACIFICO\n",
            "ALTO CALANA\n",
            "EL TRIUNFO\n",
            "HIJOS DE PIEDRA BLANCA\n",
            "LOS FRUTALES\n",
            "PIEDRA BLANCA-CERRO BLANCOSANTA RITA-VILLA PACIFICO\n",
            "VILLA PACIFICO\n"
          ],
          "name": "stdout"
        }
      ]
    },
    {
      "cell_type": "code",
      "metadata": {
        "colab": {
          "base_uri": "https://localhost:8080/",
          "height": 629
        },
        "id": "cFAu8EFijSiy",
        "outputId": "97704061-6c0c-4050-c4a7-52544de1d4f8"
      },
      "source": [
        "#Imprimir grafo \n",
        "gs.nx2gv(G, weighted=True, params={'size':'15'}, nodeinfo=True)"
      ],
      "execution_count": 18,
      "outputs": [
        {
          "output_type": "execute_result",
          "data": {
            "text/plain": [
              "<graphviz.dot.Graph at 0x7fb01e698510>"
            ],
            "image/svg+xml": "<?xml version=\"1.0\" encoding=\"UTF-8\" standalone=\"no\"?>\n<!DOCTYPE svg PUBLIC \"-//W3C//DTD SVG 1.1//EN\"\n \"http://www.w3.org/Graphics/SVG/1.1/DTD/svg11.dtd\">\n<!-- Generated by graphviz version 2.40.1 (20161225.0304)\n -->\n<!-- Title: G Pages: 1 -->\n<svg width=\"1080pt\" height=\"441pt\"\n viewBox=\"0.00 0.00 1080.00 441.36\" xmlns=\"http://www.w3.org/2000/svg\" xmlns:xlink=\"http://www.w3.org/1999/xlink\">\n<g id=\"graph0\" class=\"graph\" transform=\"scale(.7798 .7798) rotate(0) translate(4 562)\">\n<title>G</title>\n<polygon fill=\"#ffffff\" stroke=\"transparent\" points=\"-4,4 -4,-562 1381,-562 1381,4 -4,4\"/>\n<!-- PIEDRA BLANCA&#45;CERRO BLANCO&#45;SANTA RITA&#45;VILLA PACIFICO -->\n<g id=\"node1\" class=\"node\">\n<title>PIEDRA BLANCA&#45;CERRO BLANCO&#45;SANTA RITA&#45;VILLA PACIFICO</title>\n<ellipse fill=\"none\" stroke=\"#000000\" cx=\"773\" cy=\"-540\" rx=\"294.3478\" ry=\"18\"/>\n<text text-anchor=\"middle\" x=\"773\" y=\"-536.3\" font-family=\"Times,serif\" font-size=\"14.00\" fill=\"#000000\">PIEDRA BLANCA&#45;CERRO BLANCO&#45;SANTA RITA&#45;VILLA PACIFICO</text>\n</g>\n<!-- ALTO CALANA -->\n<g id=\"node2\" class=\"node\">\n<title>ALTO CALANA</title>\n<ellipse fill=\"none\" stroke=\"#000000\" cx=\"466\" cy=\"-453\" rx=\"77.1866\" ry=\"18\"/>\n<text text-anchor=\"middle\" x=\"466\" y=\"-449.3\" font-family=\"Times,serif\" font-size=\"14.00\" fill=\"#000000\">ALTO CALANA</text>\n</g>\n<!-- PIEDRA BLANCA&#45;CERRO BLANCO&#45;SANTA RITA&#45;VILLA PACIFICO&#45;&#45;ALTO CALANA -->\n<g id=\"edge1\" class=\"edge\">\n<title>PIEDRA BLANCA&#45;CERRO BLANCO&#45;SANTA RITA&#45;VILLA PACIFICO&#45;&#45;ALTO CALANA</title>\n<path fill=\"none\" stroke=\"#000000\" d=\"M710.874,-522.3943C653.2307,-506.0589 568.5579,-482.0636 515.3941,-466.9977\"/>\n<text text-anchor=\"middle\" x=\"707.5\" y=\"-492.8\" font-family=\"Times,serif\" font-size=\"14.00\" fill=\"#000000\">0.04326549775513926</text>\n</g>\n<!-- EL TRIUNFO -->\n<g id=\"node3\" class=\"node\">\n<title>EL TRIUNFO</title>\n<ellipse fill=\"none\" stroke=\"#000000\" cx=\"698\" cy=\"-366\" rx=\"65.7887\" ry=\"18\"/>\n<text text-anchor=\"middle\" x=\"698\" y=\"-362.3\" font-family=\"Times,serif\" font-size=\"14.00\" fill=\"#000000\">EL TRIUNFO</text>\n</g>\n<!-- PIEDRA BLANCA&#45;CERRO BLANCO&#45;SANTA RITA&#45;VILLA PACIFICO&#45;&#45;EL TRIUNFO -->\n<g id=\"edge2\" class=\"edge\">\n<title>PIEDRA BLANCA&#45;CERRO BLANCO&#45;SANTA RITA&#45;VILLA PACIFICO&#45;&#45;EL TRIUNFO</title>\n<path fill=\"none\" stroke=\"#000000\" d=\"M778.9455,-521.5403C781.3031,-511.8314 783.025,-499.745 781,-489 773.3114,-448.2036 772.2843,-434.9266 747,-402 741.2781,-394.5486 733.6123,-387.9271 726.0458,-382.4591\"/>\n<text text-anchor=\"middle\" x=\"847.5\" y=\"-449.3\" font-family=\"Times,serif\" font-size=\"14.00\" fill=\"#000000\">0.01652568428235537</text>\n</g>\n<!-- HIJOS DE PIEDRA BLANCA -->\n<g id=\"node4\" class=\"node\">\n<title>HIJOS DE PIEDRA BLANCA</title>\n<ellipse fill=\"none\" stroke=\"#000000\" cx=\"389\" cy=\"-279\" rx=\"128.8774\" ry=\"18\"/>\n<text text-anchor=\"middle\" x=\"389\" y=\"-275.3\" font-family=\"Times,serif\" font-size=\"14.00\" fill=\"#000000\">HIJOS DE PIEDRA BLANCA</text>\n</g>\n<!-- PIEDRA BLANCA&#45;CERRO BLANCO&#45;SANTA RITA&#45;VILLA PACIFICO&#45;&#45;HIJOS DE PIEDRA BLANCA -->\n<g id=\"edge3\" class=\"edge\">\n<title>PIEDRA BLANCA&#45;CERRO BLANCO&#45;SANTA RITA&#45;VILLA PACIFICO&#45;&#45;HIJOS DE PIEDRA BLANCA</title>\n<path fill=\"none\" stroke=\"#000000\" d=\"M598.288,-525.461C455.819,-509.3496 271.4483,-477.2612 229,-417 211.2384,-391.785 169.3106,-396.49 248,-315 256.7309,-305.9583 279.9752,-298.5068 305.132,-292.7752\"/>\n<text text-anchor=\"middle\" x=\"298.5\" y=\"-405.8\" font-family=\"Times,serif\" font-size=\"14.00\" fill=\"#000000\">0.00581850676720361</text>\n</g>\n<!-- LOS FRUTALES -->\n<g id=\"node5\" class=\"node\">\n<title>LOS FRUTALES</title>\n<ellipse fill=\"none\" stroke=\"#000000\" cx=\"222\" cy=\"-192\" rx=\"79.0865\" ry=\"18\"/>\n<text text-anchor=\"middle\" x=\"222\" y=\"-188.3\" font-family=\"Times,serif\" font-size=\"14.00\" fill=\"#000000\">LOS FRUTALES</text>\n</g>\n<!-- PIEDRA BLANCA&#45;CERRO BLANCO&#45;SANTA RITA&#45;VILLA PACIFICO&#45;&#45;LOS FRUTALES -->\n<g id=\"edge4\" class=\"edge\">\n<title>PIEDRA BLANCA&#45;CERRO BLANCO&#45;SANTA RITA&#45;VILLA PACIFICO&#45;&#45;LOS FRUTALES</title>\n<path fill=\"none\" stroke=\"#000000\" d=\"M568.5658,-526.989C375.332,-509.5458 106.8859,-470.1295 51,-384 42.291,-370.5779 44.5399,-362.6379 51,-348 79.7183,-282.9275 150.4699,-233.2634 191.402,-208.8082\"/>\n<text text-anchor=\"middle\" x=\"124.5\" y=\"-362.3\" font-family=\"Times,serif\" font-size=\"14.00\" fill=\"#000000\">0.007748219989130434</text>\n</g>\n<!-- PIEDRA BLANCA&#45;CERRO BLANCOSANTA RITA&#45;VILLA PACIFICO -->\n<g id=\"node6\" class=\"node\">\n<title>PIEDRA BLANCA&#45;CERRO BLANCOSANTA RITA&#45;VILLA PACIFICO</title>\n<ellipse fill=\"none\" stroke=\"#000000\" cx=\"911\" cy=\"-105\" rx=\"291.6483\" ry=\"18\"/>\n<text text-anchor=\"middle\" x=\"911\" y=\"-101.3\" font-family=\"Times,serif\" font-size=\"14.00\" fill=\"#000000\">PIEDRA BLANCA&#45;CERRO BLANCOSANTA RITA&#45;VILLA PACIFICO</text>\n</g>\n<!-- PIEDRA BLANCA&#45;CERRO BLANCO&#45;SANTA RITA&#45;VILLA PACIFICO&#45;&#45;PIEDRA BLANCA&#45;CERRO BLANCOSANTA RITA&#45;VILLA PACIFICO -->\n<g id=\"edge5\" class=\"edge\">\n<title>PIEDRA BLANCA&#45;CERRO BLANCO&#45;SANTA RITA&#45;VILLA PACIFICO&#45;&#45;PIEDRA BLANCA&#45;CERRO BLANCOSANTA RITA&#45;VILLA PACIFICO</title>\n<path fill=\"none\" stroke=\"#000000\" d=\"M867.2294,-522.9045C932.6082,-508.2629 1008,-484.5409 1008,-453 1008,-453 1008,-453 1008,-192 1008,-160.3299 978.99,-137.2797 952.6997,-122.893\"/>\n<text text-anchor=\"middle\" x=\"1017.5\" y=\"-318.8\" font-family=\"Times,serif\" font-size=\"14.00\" fill=\"#000000\">0.0</text>\n</g>\n<!-- VILLA PACIFICO -->\n<g id=\"node7\" class=\"node\">\n<title>VILLA PACIFICO</title>\n<ellipse fill=\"none\" stroke=\"#000000\" cx=\"481\" cy=\"-18\" rx=\"83.3857\" ry=\"18\"/>\n<text text-anchor=\"middle\" x=\"481\" y=\"-14.3\" font-family=\"Times,serif\" font-size=\"14.00\" fill=\"#000000\">VILLA PACIFICO</text>\n</g>\n<!-- PIEDRA BLANCA&#45;CERRO BLANCO&#45;SANTA RITA&#45;VILLA PACIFICO&#45;&#45;VILLA PACIFICO -->\n<g id=\"edge6\" class=\"edge\">\n<title>PIEDRA BLANCA&#45;CERRO BLANCO&#45;SANTA RITA&#45;VILLA PACIFICO&#45;&#45;VILLA PACIFICO</title>\n<path fill=\"none\" stroke=\"#000000\" d=\"M930.2972,-524.7412C1062.8298,-509.6814 1231,-484.3879 1231,-453 1231,-453 1231,-453 1231,-105 1231,-38.4762 759.4004,-22.7494 564.1287,-19.0889\"/>\n<text text-anchor=\"middle\" x=\"1304\" y=\"-275.3\" font-family=\"Times,serif\" font-size=\"14.00\" fill=\"#000000\">0.018788395381191383</text>\n</g>\n<!-- ALTO CALANA&#45;&#45;EL TRIUNFO -->\n<g id=\"edge7\" class=\"edge\">\n<title>ALTO CALANA&#45;&#45;EL TRIUNFO</title>\n<path fill=\"none\" stroke=\"#000000\" d=\"M506.9429,-437.6464C549.8704,-421.5486 616.8307,-396.4385 659.0111,-380.6209\"/>\n<text text-anchor=\"middle\" x=\"669.5\" y=\"-405.8\" font-family=\"Times,serif\" font-size=\"14.00\" fill=\"#000000\">0.059278725095941676</text>\n</g>\n<!-- ALTO CALANA&#45;&#45;HIJOS DE PIEDRA BLANCA -->\n<g id=\"edge8\" class=\"edge\">\n<title>ALTO CALANA&#45;&#45;HIJOS DE PIEDRA BLANCA</title>\n<path fill=\"none\" stroke=\"#000000\" d=\"M458.0497,-435.0343C443.2946,-401.6918 411.8317,-330.5937 397.0224,-297.1286\"/>\n<text text-anchor=\"middle\" x=\"505.5\" y=\"-362.3\" font-family=\"Times,serif\" font-size=\"14.00\" fill=\"#000000\">0.04384493271747756</text>\n</g>\n<!-- ALTO CALANA&#45;&#45;LOS FRUTALES -->\n<g id=\"edge9\" class=\"edge\">\n<title>ALTO CALANA&#45;&#45;LOS FRUTALES</title>\n<path fill=\"none\" stroke=\"#000000\" d=\"M433.5778,-436.5116C382.8602,-410.2123 287.9637,-358.805 263,-330 235.4814,-298.2469 235.9957,-283.812 226,-243 223.3801,-232.3033 222.3598,-220.0034 222.0041,-210.1631\"/>\n<text text-anchor=\"middle\" x=\"332.5\" y=\"-318.8\" font-family=\"Times,serif\" font-size=\"14.00\" fill=\"#000000\">0.04978558217998364</text>\n</g>\n<!-- ALTO CALANA&#45;&#45;PIEDRA BLANCA&#45;CERRO BLANCOSANTA RITA&#45;VILLA PACIFICO -->\n<g id=\"edge10\" class=\"edge\">\n<title>ALTO CALANA&#45;&#45;PIEDRA BLANCA&#45;CERRO BLANCOSANTA RITA&#45;VILLA PACIFICO</title>\n<path fill=\"none\" stroke=\"#000000\" d=\"M542.1392,-449.6928C613.1359,-445.4643 713.0331,-436.2437 747,-417 820.3706,-375.4324 785.4995,-308.7577 855,-261 885.0366,-240.3602 912.2333,-271.4583 935,-243 962.952,-208.06 938.3246,-152.0552 922.2606,-123.3164\"/>\n<text text-anchor=\"middle\" x=\"924.5\" y=\"-275.3\" font-family=\"Times,serif\" font-size=\"14.00\" fill=\"#000000\">0.04326549775513926</text>\n</g>\n<!-- ALTO CALANA&#45;&#45;VILLA PACIFICO -->\n<g id=\"edge11\" class=\"edge\">\n<title>ALTO CALANA&#45;&#45;VILLA PACIFICO</title>\n<path fill=\"none\" stroke=\"#000000\" d=\"M391.3394,-448.1678C285.4132,-440.0991 98.1196,-420.992 42,-384 14.3645,-365.7837 0,-355.5992 0,-322.5 0,-322.5 0,-322.5 0,-105 0,-64.558 266.7011,-36.1055 402.9167,-24.211\"/>\n<text text-anchor=\"middle\" x=\"69.5\" y=\"-231.8\" font-family=\"Times,serif\" font-size=\"14.00\" fill=\"#000000\">0.06184544524053418</text>\n</g>\n<!-- EL TRIUNFO&#45;&#45;HIJOS DE PIEDRA BLANCA -->\n<g id=\"edge12\" class=\"edge\">\n<title>EL TRIUNFO&#45;&#45;HIJOS DE PIEDRA BLANCA</title>\n<path fill=\"none\" stroke=\"#000000\" d=\"M638.1022,-358.5205C565.228,-349.2811 450.7522,-334.2596 442,-330 426.3846,-322.4002 412.4025,-308.4816 402.7255,-297.1028\"/>\n<text text-anchor=\"middle\" x=\"515.5\" y=\"-318.8\" font-family=\"Times,serif\" font-size=\"14.00\" fill=\"#000000\">0.015662984198421447</text>\n</g>\n<!-- EL TRIUNFO&#45;&#45;LOS FRUTALES -->\n<g id=\"edge13\" class=\"edge\">\n<title>EL TRIUNFO&#45;&#45;LOS FRUTALES</title>\n<path fill=\"none\" stroke=\"#000000\" d=\"M663.9014,-350.6005C636.9257,-337.7904 598.8045,-318.2676 568,-297 548.0443,-283.2225 548.5266,-272.165 527,-261 454.1081,-223.1939 360.8823,-205.9753 296.7942,-198.2141\"/>\n<text text-anchor=\"middle\" x=\"641.5\" y=\"-275.3\" font-family=\"Times,serif\" font-size=\"14.00\" fill=\"#000000\">0.009507374506142493</text>\n</g>\n<!-- EL TRIUNFO&#45;&#45;PIEDRA BLANCA&#45;CERRO BLANCOSANTA RITA&#45;VILLA PACIFICO -->\n<g id=\"edge14\" class=\"edge\">\n<title>EL TRIUNFO&#45;&#45;PIEDRA BLANCA&#45;CERRO BLANCOSANTA RITA&#45;VILLA PACIFICO</title>\n<path fill=\"none\" stroke=\"#000000\" d=\"M723.016,-348.997C730.0263,-343.4733 737.2848,-336.9582 743,-330 775.426,-290.5218 755.1276,-258.65 796,-228 828.9841,-203.2654 857.4216,-238.7205 887,-210 910.4772,-187.2038 913.0719,-146.5077 912.3634,-123.0369\"/>\n<text text-anchor=\"middle\" x=\"865.5\" y=\"-231.8\" font-family=\"Times,serif\" font-size=\"14.00\" fill=\"#000000\">0.01652568428235537</text>\n</g>\n<!-- EL TRIUNFO&#45;&#45;VILLA PACIFICO -->\n<g id=\"edge15\" class=\"edge\">\n<title>EL TRIUNFO&#45;&#45;VILLA PACIFICO</title>\n<path fill=\"none\" stroke=\"#000000\" d=\"M705.2152,-347.9804C721.399,-304.2676 754.6387,-192.4193 694,-141 664.8792,-116.3067 644.4272,-139.509 610,-123 564.1733,-101.0245 520.3856,-59.6364 497.4936,-35.9149\"/>\n<text text-anchor=\"middle\" x=\"805\" y=\"-188.3\" font-family=\"Times,serif\" font-size=\"14.00\" fill=\"#000000\">0.0030331768824127738</text>\n</g>\n<!-- HIJOS DE PIEDRA BLANCA&#45;&#45;LOS FRUTALES -->\n<g id=\"edge16\" class=\"edge\">\n<title>HIJOS DE PIEDRA BLANCA&#45;&#45;LOS FRUTALES</title>\n<path fill=\"none\" stroke=\"#000000\" d=\"M303.4518,-265.5493C276.0278,-259.7307 250.1242,-252.1388 240,-243 230.7998,-234.6953 226.3016,-221.3955 224.1026,-210.4597\"/>\n<text text-anchor=\"middle\" x=\"313\" y=\"-231.8\" font-family=\"Times,serif\" font-size=\"14.00\" fill=\"#000000\">0.006268115187198048</text>\n</g>\n<!-- HIJOS DE PIEDRA BLANCA&#45;&#45;PIEDRA BLANCA&#45;CERRO BLANCOSANTA RITA&#45;VILLA PACIFICO -->\n<g id=\"edge17\" class=\"edge\">\n<title>HIJOS DE PIEDRA BLANCA&#45;&#45;PIEDRA BLANCA&#45;CERRO BLANCOSANTA RITA&#45;VILLA PACIFICO</title>\n<path fill=\"none\" stroke=\"#000000\" d=\"M412.4331,-261.2236C445.3055,-237.264 507.8483,-195.1759 568,-174 619.6991,-155.7997 636.1427,-166.1704 690,-156 741.0742,-146.3552 798.2352,-133.0973 841.627,-122.5165\"/>\n<text text-anchor=\"middle\" x=\"637.5\" y=\"-188.3\" font-family=\"Times,serif\" font-size=\"14.00\" fill=\"#000000\">0.00581850676720361</text>\n</g>\n<!-- HIJOS DE PIEDRA BLANCA&#45;&#45;VILLA PACIFICO -->\n<g id=\"edge18\" class=\"edge\">\n<title>HIJOS DE PIEDRA BLANCA&#45;&#45;VILLA PACIFICO</title>\n<path fill=\"none\" stroke=\"#000000\" d=\"M388.6999,-260.9848C388.3461,-251.1879 387.5925,-238.8822 386,-228 380.2952,-189.0173 354.7784,-177.7416 369,-141 386.5142,-95.752 429.2754,-56.9203 456.6042,-35.5702\"/>\n<text text-anchor=\"middle\" x=\"442.5\" y=\"-144.8\" font-family=\"Times,serif\" font-size=\"14.00\" fill=\"#000000\">0.018465123124418562</text>\n</g>\n<!-- LOS FRUTALES&#45;&#45;PIEDRA BLANCA&#45;CERRO BLANCOSANTA RITA&#45;VILLA PACIFICO -->\n<g id=\"edge19\" class=\"edge\">\n<title>LOS FRUTALES&#45;&#45;PIEDRA BLANCA&#45;CERRO BLANCOSANTA RITA&#45;VILLA PACIFICO</title>\n<path fill=\"none\" stroke=\"#000000\" d=\"M298.0228,-186.7614C372.5421,-180.9203 480.5183,-170.37 520,-156 531.468,-151.826 531.4853,-145.0435 543,-141 572.6783,-130.5781 633.5629,-122.8599 697.4122,-117.3025\"/>\n<text text-anchor=\"middle\" x=\"616.5\" y=\"-144.8\" font-family=\"Times,serif\" font-size=\"14.00\" fill=\"#000000\">0.007748219989130434</text>\n</g>\n<!-- LOS FRUTALES&#45;&#45;VILLA PACIFICO -->\n<g id=\"edge20\" class=\"edge\">\n<title>LOS FRUTALES&#45;&#45;VILLA PACIFICO</title>\n<path fill=\"none\" stroke=\"#000000\" d=\"M213.1476,-173.9427C203.4121,-151.191 191.5512,-112.0441 211,-87 234.9996,-56.0959 336.46,-36.6985 407.9152,-26.6045\"/>\n<text text-anchor=\"middle\" x=\"284.5\" y=\"-101.3\" font-family=\"Times,serif\" font-size=\"14.00\" fill=\"#000000\">0.012226584150939305</text>\n</g>\n<!-- PIEDRA BLANCA&#45;CERRO BLANCOSANTA RITA&#45;VILLA PACIFICO&#45;&#45;VILLA PACIFICO -->\n<g id=\"edge21\" class=\"edge\">\n<title>PIEDRA BLANCA&#45;CERRO BLANCOSANTA RITA&#45;VILLA PACIFICO&#45;&#45;VILLA PACIFICO</title>\n<path fill=\"none\" stroke=\"#000000\" d=\"M825.7889,-87.7596C741.9311,-70.793 615.977,-45.3093 541.7722,-30.2958\"/>\n<text text-anchor=\"middle\" x=\"795\" y=\"-57.8\" font-family=\"Times,serif\" font-size=\"14.00\" fill=\"#000000\">0.018788395381191383</text>\n</g>\n</g>\n</svg>\n"
          },
          "metadata": {
            "tags": []
          },
          "execution_count": 18
        }
      ]
    },
    {
      "cell_type": "markdown",
      "metadata": {
        "id": "ubobPAl7qQmo"
      },
      "source": [
        "# **Código**"
      ]
    },
    {
      "cell_type": "markdown",
      "metadata": {
        "id": "ZtzKEAwgfZhJ"
      },
      "source": [
        "**Distancia Euclidiana**"
      ]
    },
    {
      "cell_type": "code",
      "metadata": {
        "id": "uSp_uhs0fXFD"
      },
      "source": [
        "#Calcular la distancia Euclidiana\n",
        "def calc_dist(cp1, cp2):\n",
        "  x1, y1 = float(cp1['LATITUD']), float(cp1['LONGITUD'])\n",
        "  x2, y2 = float(cp2['LATITUD']), float(cp2['LONGITUD'])\n",
        "\n",
        "  return math.sqrt((x1 - x2)**2 + (y1 - y2)**2)"
      ],
      "execution_count": 34,
      "outputs": []
    },
    {
      "cell_type": "markdown",
      "metadata": {
        "id": "5VLuYpOzgFKq"
      },
      "source": [
        "**Dijkstra**"
      ]
    },
    {
      "cell_type": "code",
      "metadata": {
        "id": "pVBM5LUogdcw"
      },
      "source": [
        "def dijkstra(n: int, adj: list, start: int):\n",
        "    vis = [False for _ in range(n)]\n",
        "    dist = [float('inf') for _ in range(n)]\n",
        "    q = []\n",
        "    dist[start] = 0\n",
        "    pq.heappush(q, (0, start)) \n",
        "\n",
        "    while len(q) > 0:\n",
        "        _, v = pq.heappop(q)\n",
        "\n",
        "        if vis[v]:\n",
        "            continue\n",
        "\n",
        "        vis[v] = True\n",
        "\n",
        "        for e, w in adj[v]:\n",
        "            w\n",
        "            if dist[v] + w < dist[e] and vis[e] == False:\n",
        "                dist[e] = dist[v] + w\n",
        "                pq.heappush(q, (dist[e], e))\n",
        "\n",
        "    return a.index(min(dist))"
      ],
      "execution_count": 13,
      "outputs": []
    },
    {
      "cell_type": "markdown",
      "metadata": {
        "id": "FNegnnxMlCon"
      },
      "source": [
        "**Main Code**"
      ]
    },
    {
      "cell_type": "code",
      "metadata": {
        "id": "AOWJLmRzkfVU",
        "colab": {
          "base_uri": "https://localhost:8080/"
        },
        "outputId": "1ddb9213-6da3-4b40-b2cd-6523daeaed13"
      },
      "source": [
        "print(centrosPoblados)\n",
        "\n",
        "camino = []\n",
        "adj = [[] for _ in range(len(centrosPoblados))]\n",
        "\n",
        "for _, cp1 in distrito.iterrows():\n",
        "    adj[a].append((b, calc_dist(float(cp1['LATITUD']))))\n",
        "\n",
        "#for i in G.nodes\n",
        "  #c, sol = dijkstra()"
      ],
      "execution_count": 33,
      "outputs": [
        {
          "output_type": "stream",
          "text": [
            "['PIEDRA BLANCA-CERRO BLANCO-SANTA RITA-VILLA PACIFICO', 'ALTO CALANA', 'EL TRIUNFO', 'HIJOS DE PIEDRA BLANCA', 'LOS FRUTALES', 'PIEDRA BLANCA-CERRO BLANCOSANTA RITA-VILLA PACIFICO', 'VILLA PACIFICO']\n"
          ],
          "name": "stdout"
        }
      ]
    },
    {
      "cell_type": "code",
      "metadata": {
        "id": "GKPbVdjVqPBk"
      },
      "source": [
        ""
      ],
      "execution_count": null,
      "outputs": []
    }
  ]
}