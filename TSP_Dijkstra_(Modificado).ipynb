{
  "nbformat": 4,
  "nbformat_minor": 0,
  "metadata": {
    "colab": {
      "name": "TSP_Dijkstra (Modificado)",
      "provenance": []
    },
    "kernelspec": {
      "name": "python3",
      "display_name": "Python 3"
    },
    "language_info": {
      "name": "python"
    }
  },
  "cells": [
    {
      "cell_type": "markdown",
      "metadata": {
        "id": "71d9x5qrIpWI"
      },
      "source": [
        "#Trabajo Parcial"
      ]
    },
    {
      "cell_type": "code",
      "metadata": {
        "colab": {
          "base_uri": "https://localhost:8080/"
        },
        "id": "0V0aB-VMLEAN",
        "outputId": "194e22f2-fdb2-46e2-dbc1-7b1ec15b8446"
      },
      "source": [
        "!git clone https://github.com/lmcanavals/algorithmic_complexity.git"
      ],
      "execution_count": null,
      "outputs": [
        {
          "output_type": "stream",
          "text": [
            "Cloning into 'algorithmic_complexity'...\n",
            "remote: Enumerating objects: 268, done.\u001b[K\n",
            "remote: Counting objects: 100% (268/268), done.\u001b[K\n",
            "remote: Compressing objects: 100% (263/263), done.\u001b[K\n",
            "remote: Total 268 (delta 150), reused 0 (delta 0), pack-reused 0\u001b[K\n",
            "Receiving objects: 100% (268/268), 274.11 KiB | 7.41 MiB/s, done.\n",
            "Resolving deltas: 100% (150/150), done.\n"
          ],
          "name": "stdout"
        }
      ]
    },
    {
      "cell_type": "code",
      "metadata": {
        "id": "6QB84qTBMqna"
      },
      "source": [
        "from algorithmic_complexity.aclib import graphstuff as gs"
      ],
      "execution_count": null,
      "outputs": []
    },
    {
      "cell_type": "code",
      "metadata": {
        "id": "UeYt39Q_FLlP"
      },
      "source": [
        "import pandas as pd\n",
        "import numpy as np\n",
        "import networkx as nx\n",
        "import math\n",
        "import heapq as hq"
      ],
      "execution_count": null,
      "outputs": []
    },
    {
      "cell_type": "markdown",
      "metadata": {
        "id": "2bPn6-KVIyxZ"
      },
      "source": [
        "## Lectura del *dataset*"
      ]
    },
    {
      "cell_type": "code",
      "metadata": {
        "id": "v6Cbr_XnFejJ"
      },
      "source": [
        "url=\"https://raw.githubusercontent.com/lmcanavals/algorithmic_complexity/main/data/poblaciones.csv\"\n",
        "poblacionesDF = pd.read_csv(url)"
      ],
      "execution_count": null,
      "outputs": []
    },
    {
      "cell_type": "markdown",
      "metadata": {
        "id": "75m9lWB1J6bK"
      },
      "source": [
        "### Generando grafo de centros poblados"
      ]
    },
    {
      "cell_type": "code",
      "metadata": {
        "id": "na8ckx9bLsFS"
      },
      "source": [
        "def dist(cp1, cp2):\n",
        "  x1, y1 = float(cp1['LATITUD']), float(cp1['LONGITUD'])\n",
        "  x2, y2 = float(cp2['LATITUD']), float(cp2['LONGITUD'])\n",
        "\n",
        "  return math.sqrt((x1 - x2)**2 + (y1 - y2)**2)"
      ],
      "execution_count": null,
      "outputs": []
    },
    {
      "cell_type": "code",
      "metadata": {
        "id": "sfE1_WDBSP7g"
      },
      "source": [
        "def haversine(cp1, cp2):\n",
        "  la1, lo1 = float(cp1['LATITUD']), float(cp1['LONGITUD'])\n",
        "  la2, lo2 = float(cp2['LATITUD']), float(cp2['LONGITUD'])\n",
        "  \n",
        "  lo1, la1, lo2, la2 = map(math.radians, [lo1, la1, lo2, la2])\n",
        "  dlo = lo2 - lo1\n",
        "  dla = la2 - la1\n",
        "  a = math.sin(dla/2)**2 + math.cos(la1) * math.cos(la2) * math.sin(dlo/2)**2\n",
        "  c = 2 * math.asin(math.sqrt(a))\n",
        "  r = 6371\n",
        "\n",
        "  return round(c * r, 2)\n"
      ],
      "execution_count": null,
      "outputs": []
    },
    {
      "cell_type": "code",
      "metadata": {
        "id": "gUUDbAzQKix0"
      },
      "source": [
        "def generateG(nom_provincia, nom_distrito, poblacionesDF):\n",
        "  nomprovincias = poblacionesDF['PROVINCIA'].unique()\n",
        "  provincias = dict()\n",
        "\n",
        "  for nom in nomprovincias:\n",
        "    provincias[nom] = poblacionesDF[poblacionesDF['PROVINCIA'] == nom]\n",
        "  \n",
        "  nomdistritos = provincias[nom_provincia]['DISTRITO'].unique()\n",
        "  \n",
        "  distritos = dict()\n",
        "  for nom in nomdistritos:\n",
        "    distritos[nom] = provincias[nom_provincia][provincias[nom_provincia]['DISTRITO'] == nom]\n",
        "\n",
        "  distrito = distritos[nom_distrito]\n",
        "  G = nx.Graph()\n",
        "  col = 'CENTRO POBLADO'\n",
        "  for i, cp1 in distrito.iterrows():\n",
        "    for j, cp2 in distrito.iterrows():\n",
        "      if cp1[col] != cp2[col]:\n",
        "        G.add_edge(cp1[col], cp2[col], weight=haversine(cp1, cp2))\n",
        "\n",
        "  return G"
      ],
      "execution_count": null,
      "outputs": []
    },
    {
      "cell_type": "markdown",
      "metadata": {
        "id": "NVmRP6bAIXi2"
      },
      "source": [
        "## Ingresar datos de prueba"
      ]
    },
    {
      "cell_type": "code",
      "metadata": {
        "id": "At5jaHdEfhPh"
      },
      "source": [
        "#@title Provincia \n",
        "#@markdown Ingrese la provincia\n",
        "\n",
        "no_type_checking = ''\n",
        "nom_provincia = 'SULLANA' #@param {type:\"string\"}\n",
        "nom_distrito = 'MARCAVELICA' #@param {type:\"string\"}"
      ],
      "execution_count": null,
      "outputs": []
    },
    {
      "cell_type": "code",
      "metadata": {
        "colab": {
          "base_uri": "https://localhost:8080/",
          "height": 888
        },
        "id": "FoJt-MwFMwGc",
        "outputId": "2c7caf86-4c73-46fb-a491-05daac25f0e6"
      },
      "source": [
        "G = generateG(nom_provincia, nom_distrito, poblacionesDF)\n",
        "gs.nx2gv(G, weighted=True, params={'size':'15'})"
      ],
      "execution_count": null,
      "outputs": [
        {
          "output_type": "execute_result",
          "data": {
            "text/plain": [
              "<graphviz.dot.Graph at 0x7fb5f0387ed0>"
            ],
            "image/svg+xml": "<?xml version=\"1.0\" encoding=\"UTF-8\" standalone=\"no\"?>\n<!DOCTYPE svg PUBLIC \"-//W3C//DTD SVG 1.1//EN\"\n \"http://www.w3.org/Graphics/SVG/1.1/DTD/svg11.dtd\">\n<!-- Generated by graphviz version 2.40.1 (20161225.0304)\n -->\n<!-- Title: G Pages: 1 -->\n<svg width=\"1080pt\" height=\"651pt\"\n viewBox=\"0.00 0.00 1080.00 650.77\" xmlns=\"http://www.w3.org/2000/svg\" xmlns:xlink=\"http://www.w3.org/1999/xlink\">\n<g id=\"graph0\" class=\"graph\" transform=\"scale(.5538 .5538) rotate(0) translate(4 1171)\">\n<title>G</title>\n<polygon fill=\"#ffffff\" stroke=\"transparent\" points=\"-4,4 -4,-1171 1946,-1171 1946,4 -4,4\"/>\n<!-- CAÑAS -->\n<g id=\"node1\" class=\"node\">\n<title>CAÑAS</title>\n<ellipse fill=\"none\" stroke=\"#000000\" cx=\"751\" cy=\"-1149\" rx=\"42.7926\" ry=\"18\"/>\n<text text-anchor=\"middle\" x=\"751\" y=\"-1145.3\" font-family=\"Times,serif\" font-size=\"14.00\" fill=\"#000000\">CAÑAS</text>\n</g>\n<!-- EL YUCAL -->\n<g id=\"node2\" class=\"node\">\n<title>EL YUCAL</title>\n<ellipse fill=\"none\" stroke=\"#000000\" cx=\"751\" cy=\"-1062\" rx=\"56.59\" ry=\"18\"/>\n<text text-anchor=\"middle\" x=\"751\" y=\"-1058.3\" font-family=\"Times,serif\" font-size=\"14.00\" fill=\"#000000\">EL YUCAL</text>\n</g>\n<!-- CAÑAS&#45;&#45;EL YUCAL -->\n<g id=\"edge1\" class=\"edge\">\n<title>CAÑAS&#45;&#45;EL YUCAL</title>\n<path fill=\"none\" stroke=\"#000000\" d=\"M751,-1130.9735C751,-1116.0422 751,-1094.9283 751,-1080.0034\"/>\n<text text-anchor=\"middle\" x=\"768\" y=\"-1101.8\" font-family=\"Times,serif\" font-size=\"14.00\" fill=\"#000000\">15.73</text>\n</g>\n<!-- LA NORIA -->\n<g id=\"node3\" class=\"node\">\n<title>LA NORIA</title>\n<ellipse fill=\"none\" stroke=\"#000000\" cx=\"1083\" cy=\"-975\" rx=\"55.4913\" ry=\"18\"/>\n<text text-anchor=\"middle\" x=\"1083\" y=\"-971.3\" font-family=\"Times,serif\" font-size=\"14.00\" fill=\"#000000\">LA NORIA</text>\n</g>\n<!-- CAÑAS&#45;&#45;LA NORIA -->\n<g id=\"edge2\" class=\"edge\">\n<title>CAÑAS&#45;&#45;LA NORIA</title>\n<path fill=\"none\" stroke=\"#000000\" d=\"M777.8877,-1134.9082C839.3272,-1102.708 989.6157,-1023.9424 1053.4951,-990.4634\"/>\n<text text-anchor=\"middle\" x=\"968\" y=\"-1058.3\" font-family=\"Times,serif\" font-size=\"14.00\" fill=\"#000000\">12.08</text>\n</g>\n<!-- LA QUINTA -->\n<g id=\"node4\" class=\"node\">\n<title>LA QUINTA</title>\n<ellipse fill=\"none\" stroke=\"#000000\" cx=\"1275\" cy=\"-888\" rx=\"61.1893\" ry=\"18\"/>\n<text text-anchor=\"middle\" x=\"1275\" y=\"-884.3\" font-family=\"Times,serif\" font-size=\"14.00\" fill=\"#000000\">LA QUINTA</text>\n</g>\n<!-- CAÑAS&#45;&#45;LA QUINTA -->\n<g id=\"edge3\" class=\"edge\">\n<title>CAÑAS&#45;&#45;LA QUINTA</title>\n<path fill=\"none\" stroke=\"#000000\" d=\"M789.9545,-1141.1739C893.2366,-1119.7164 1170.6414,-1057.2582 1236,-993 1260.1279,-969.2783 1269.474,-929.2959 1272.9858,-906.116\"/>\n<text text-anchor=\"middle\" x=\"1229\" y=\"-1014.8\" font-family=\"Times,serif\" font-size=\"14.00\" fill=\"#000000\">19.14</text>\n</g>\n<!-- LA SEGUNDA -->\n<g id=\"node5\" class=\"node\">\n<title>LA SEGUNDA</title>\n<ellipse fill=\"none\" stroke=\"#000000\" cx=\"715\" cy=\"-801\" rx=\"70.6878\" ry=\"18\"/>\n<text text-anchor=\"middle\" x=\"715\" y=\"-797.3\" font-family=\"Times,serif\" font-size=\"14.00\" fill=\"#000000\">LA SEGUNDA</text>\n</g>\n<!-- CAÑAS&#45;&#45;LA SEGUNDA -->\n<g id=\"edge4\" class=\"edge\">\n<title>CAÑAS&#45;&#45;LA SEGUNDA</title>\n<path fill=\"none\" stroke=\"#000000\" d=\"M712.7802,-1140.7496C650.4898,-1124.8618 530.1886,-1083.2839 492,-993 454.2356,-903.7189 594.9688,-841.3065 670.3383,-814.9825\"/>\n<text text-anchor=\"middle\" x=\"509\" y=\"-971.3\" font-family=\"Times,serif\" font-size=\"14.00\" fill=\"#000000\">19.37</text>\n</g>\n<!-- LAS PALMERAS -->\n<g id=\"node6\" class=\"node\">\n<title>LAS PALMERAS</title>\n<ellipse fill=\"none\" stroke=\"#000000\" cx=\"672\" cy=\"-714\" rx=\"81.4863\" ry=\"18\"/>\n<text text-anchor=\"middle\" x=\"672\" y=\"-710.3\" font-family=\"Times,serif\" font-size=\"14.00\" fill=\"#000000\">LAS PALMERAS</text>\n</g>\n<!-- CAÑAS&#45;&#45;LAS PALMERAS -->\n<g id=\"edge5\" class=\"edge\">\n<title>CAÑAS&#45;&#45;LAS PALMERAS</title>\n<path fill=\"none\" stroke=\"#000000\" d=\"M711.8279,-1141.5576C654.3347,-1129.9138 550.9866,-1106.0135 524,-1080 473.4847,-1031.3063 469.2169,-1007.2633 453,-939 428.778,-837.04 564.4448,-761.3268 633.5153,-729.9409\"/>\n<text text-anchor=\"middle\" x=\"470\" y=\"-927.8\" font-family=\"Times,serif\" font-size=\"14.00\" fill=\"#000000\">22.11</text>\n</g>\n<!-- MALLARITOS -->\n<g id=\"node7\" class=\"node\">\n<title>MALLARITOS</title>\n<ellipse fill=\"none\" stroke=\"#000000\" cx=\"1109\" cy=\"-627\" rx=\"71.4873\" ry=\"18\"/>\n<text text-anchor=\"middle\" x=\"1109\" y=\"-623.3\" font-family=\"Times,serif\" font-size=\"14.00\" fill=\"#000000\">MALLARITOS</text>\n</g>\n<!-- CAÑAS&#45;&#45;MALLARITOS -->\n<g id=\"edge6\" class=\"edge\">\n<title>CAÑAS&#45;&#45;MALLARITOS</title>\n<path fill=\"none\" stroke=\"#000000\" d=\"M791.5717,-1142.6493C833.7654,-1135.8955 901.6807,-1124.6055 960,-1113 1193.4738,-1066.5388 1335.8126,-1112.6407 1454,-906 1467.816,-881.8438 1455.0616,-804.9688 1441,-783 1381.262,-689.6696 1249.3546,-651.1421 1170.9806,-636.0361\"/>\n<text text-anchor=\"middle\" x=\"1473.5\" y=\"-884.3\" font-family=\"Times,serif\" font-size=\"14.00\" fill=\"#000000\">21.0</text>\n</g>\n<!-- MARCAVELICA -->\n<g id=\"node8\" class=\"node\">\n<title>MARCAVELICA</title>\n<ellipse fill=\"none\" stroke=\"#000000\" cx=\"752\" cy=\"-540\" rx=\"79.0865\" ry=\"18\"/>\n<text text-anchor=\"middle\" x=\"752\" y=\"-536.3\" font-family=\"Times,serif\" font-size=\"14.00\" fill=\"#000000\">MARCAVELICA</text>\n</g>\n<!-- CAÑAS&#45;&#45;MARCAVELICA -->\n<g id=\"edge7\" class=\"edge\">\n<title>CAÑAS&#45;&#45;MARCAVELICA</title>\n<path fill=\"none\" stroke=\"#000000\" d=\"M708.6411,-1145.4194C595.0117,-1135.2493 292,-1104.1753 292,-1062 292,-1062 292,-1062 292,-757.5 292,-621.3256 430.9574,-652.4909 560,-609 612.7722,-591.2143 632.5744,-612.3692 684,-591 702.8056,-583.1856 721.0964,-568.9761 733.9628,-557.537\"/>\n<text text-anchor=\"middle\" x=\"309\" y=\"-840.8\" font-family=\"Times,serif\" font-size=\"14.00\" fill=\"#000000\">22.91</text>\n</g>\n<!-- MONTERON -->\n<g id=\"node9\" class=\"node\">\n<title>MONTERON</title>\n<ellipse fill=\"none\" stroke=\"#000000\" cx=\"712\" cy=\"-453\" rx=\"64.189\" ry=\"18\"/>\n<text text-anchor=\"middle\" x=\"712\" y=\"-449.3\" font-family=\"Times,serif\" font-size=\"14.00\" fill=\"#000000\">MONTERON</text>\n</g>\n<!-- CAÑAS&#45;&#45;MONTERON -->\n<g id=\"edge8\" class=\"edge\">\n<title>CAÑAS&#45;&#45;MONTERON</title>\n<path fill=\"none\" stroke=\"#000000\" d=\"M708.0357,-1147.4122C568.9591,-1141.708 140,-1119.4572 140,-1062 140,-1062 140,-1062 140,-757.5 140,-667.8661 356.8162,-519.7785 441,-489 525.6531,-458.05 554.1969,-486.4291 643,-471 650.8063,-469.6437 659.0219,-467.8405 666.9544,-465.8987\"/>\n<text text-anchor=\"middle\" x=\"157\" y=\"-797.3\" font-family=\"Times,serif\" font-size=\"14.00\" fill=\"#000000\">22.41</text>\n</g>\n<!-- SAMAN CHICO -->\n<g id=\"node10\" class=\"node\">\n<title>SAMAN CHICO</title>\n<ellipse fill=\"none\" stroke=\"#000000\" cx=\"1288\" cy=\"-366\" rx=\"76.8869\" ry=\"18\"/>\n<text text-anchor=\"middle\" x=\"1288\" y=\"-362.3\" font-family=\"Times,serif\" font-size=\"14.00\" fill=\"#000000\">SAMAN CHICO</text>\n</g>\n<!-- CAÑAS&#45;&#45;SAMAN CHICO -->\n<g id=\"edge9\" class=\"edge\">\n<title>CAÑAS&#45;&#45;SAMAN CHICO</title>\n<path fill=\"none\" stroke=\"#000000\" d=\"M794.092,-1147.6117C987.853,-1141.0915 1769,-1111.7219 1769,-1062 1769,-1062 1769,-1062 1769,-844.5 1769,-839.141 1622.7985,-492.7803 1619,-489 1547.0846,-417.4308 1429.8148,-386.9915 1355.8888,-374.4142\"/>\n<text text-anchor=\"middle\" x=\"1753\" y=\"-753.8\" font-family=\"Times,serif\" font-size=\"14.00\" fill=\"#000000\">14.67</text>\n</g>\n<!-- SAMAN -->\n<g id=\"node11\" class=\"node\">\n<title>SAMAN</title>\n<ellipse fill=\"none\" stroke=\"#000000\" cx=\"1073\" cy=\"-279\" rx=\"44.6926\" ry=\"18\"/>\n<text text-anchor=\"middle\" x=\"1073\" y=\"-275.3\" font-family=\"Times,serif\" font-size=\"14.00\" fill=\"#000000\">SAMAN</text>\n</g>\n<!-- CAÑAS&#45;&#45;SAMAN -->\n<g id=\"edge10\" class=\"edge\">\n<title>CAÑAS&#45;&#45;SAMAN</title>\n<path fill=\"none\" stroke=\"#000000\" d=\"M793.9669,-1147.7225C938.8033,-1143.3165 1408.4651,-1128.1895 1559,-1113 1680.9395,-1100.6958 1830,-1184.5587 1830,-1062 1830,-1062 1830,-1062 1830,-801 1830,-560.253 1754.5862,-442.1204 1533,-348 1390.7412,-287.5746 1342.2854,-316.8084 1189,-297 1164.2405,-293.8004 1136.6153,-289.5414 1114.5362,-285.9694\"/>\n<text text-anchor=\"middle\" x=\"1844\" y=\"-710.3\" font-family=\"Times,serif\" font-size=\"14.00\" fill=\"#000000\">17.19</text>\n</g>\n<!-- SAN MIGUEL DE TANGARARA -->\n<g id=\"node12\" class=\"node\">\n<title>SAN MIGUEL DE TANGARARA</title>\n<ellipse fill=\"none\" stroke=\"#000000\" cx=\"1059\" cy=\"-192\" rx=\"144.8743\" ry=\"18\"/>\n<text text-anchor=\"middle\" x=\"1059\" y=\"-188.3\" font-family=\"Times,serif\" font-size=\"14.00\" fill=\"#000000\">SAN MIGUEL DE TANGARARA</text>\n</g>\n<!-- CAÑAS&#45;&#45;SAN MIGUEL DE TANGARARA -->\n<g id=\"edge11\" class=\"edge\">\n<title>CAÑAS&#45;&#45;SAN MIGUEL DE TANGARARA</title>\n<path fill=\"none\" stroke=\"#000000\" d=\"M793.9864,-1148.4917C955.2926,-1146.4111 1524.464,-1137.4636 1704,-1113 1794.0403,-1100.7311 1902,-1152.8723 1902,-1062 1902,-1062 1902,-1062 1902,-757.5 1902,-607.951 1901.1845,-550.3464 1806,-435 1660.7233,-258.951 1560.4131,-269.6815 1336,-228 1281.6456,-217.9045 1220.7706,-209.6613 1169.9611,-203.6228\"/>\n<text text-anchor=\"middle\" x=\"1918\" y=\"-666.8\" font-family=\"Times,serif\" font-size=\"14.00\" fill=\"#000000\">23.86</text>\n</g>\n<!-- SAN ROLANDO -->\n<g id=\"node13\" class=\"node\">\n<title>SAN ROLANDO</title>\n<ellipse fill=\"none\" stroke=\"#000000\" cx=\"583\" cy=\"-105\" rx=\"78.7863\" ry=\"18\"/>\n<text text-anchor=\"middle\" x=\"583\" y=\"-101.3\" font-family=\"Times,serif\" font-size=\"14.00\" fill=\"#000000\">SAN ROLANDO</text>\n</g>\n<!-- CAÑAS&#45;&#45;SAN ROLANDO -->\n<g id=\"edge12\" class=\"edge\">\n<title>CAÑAS&#45;&#45;SAN ROLANDO</title>\n<path fill=\"none\" stroke=\"#000000\" d=\"M707.9604,-1148.2387C554.8944,-1144.9694 46,-1129.0576 46,-1062 46,-1062 46,-1062 46,-670.5 46,-547.065 71.6031,-516.7838 117,-402 138.1728,-348.4656 202.1963,-217.4178 240,-174 256.2862,-155.2952 261.9356,-150.1184 285,-141 324.1334,-125.5289 432.4906,-115.2505 507.1561,-109.7704\"/>\n<text text-anchor=\"middle\" x=\"66\" y=\"-623.3\" font-family=\"Times,serif\" font-size=\"14.00\" fill=\"#000000\">19.15</text>\n</g>\n<!-- VISTA FLORIDA -->\n<g id=\"node14\" class=\"node\">\n<title>VISTA FLORIDA</title>\n<ellipse fill=\"none\" stroke=\"#000000\" cx=\"1059\" cy=\"-18\" rx=\"81.4863\" ry=\"18\"/>\n<text text-anchor=\"middle\" x=\"1059\" y=\"-14.3\" font-family=\"Times,serif\" font-size=\"14.00\" fill=\"#000000\">VISTA FLORIDA</text>\n</g>\n<!-- CAÑAS&#45;&#45;VISTA FLORIDA -->\n<g id=\"edge13\" class=\"edge\">\n<title>CAÑAS&#45;&#45;VISTA FLORIDA</title>\n<path fill=\"none\" stroke=\"#000000\" d=\"M708.1595,-1147.6198C573.0126,-1143.1267 161.1547,-1128.3228 103,-1113 53.6037,-1099.9849 0,-1113.0821 0,-1062 0,-1062 0,-1062 0,-105 0,-41.2768 71.5634,-66.74 134,-54 215.2924,-37.4125 767.3062,-24.1612 977.741,-19.6569\"/>\n<text text-anchor=\"middle\" x=\"13.5\" y=\"-579.8\" font-family=\"Times,serif\" font-size=\"14.00\" fill=\"#000000\">21.9</text>\n</g>\n<!-- EL YUCAL&#45;&#45;LA NORIA -->\n<g id=\"edge14\" class=\"edge\">\n<title>EL YUCAL&#45;&#45;LA NORIA</title>\n<path fill=\"none\" stroke=\"#000000\" d=\"M794.7446,-1050.5368C858.5732,-1033.8106 976.5147,-1002.9043 1039.9488,-986.2815\"/>\n<text text-anchor=\"middle\" x=\"950\" y=\"-1014.8\" font-family=\"Times,serif\" font-size=\"14.00\" fill=\"#000000\">4.11</text>\n</g>\n<!-- EL YUCAL&#45;&#45;LA QUINTA -->\n<g id=\"edge15\" class=\"edge\">\n<title>EL YUCAL&#45;&#45;LA QUINTA</title>\n<path fill=\"none\" stroke=\"#000000\" d=\"M802.4058,-1054.3849C902.3185,-1039.3884 1115.7005,-1006.3319 1147,-993 1194.0696,-972.9509 1237.5658,-930.0193 1259.7017,-905.7192\"/>\n<text text-anchor=\"middle\" x=\"1218.5\" y=\"-971.3\" font-family=\"Times,serif\" font-size=\"14.00\" fill=\"#000000\">3.52</text>\n</g>\n<!-- EL YUCAL&#45;&#45;LA SEGUNDA -->\n<g id=\"edge16\" class=\"edge\">\n<title>EL YUCAL&#45;&#45;LA SEGUNDA</title>\n<path fill=\"none\" stroke=\"#000000\" d=\"M721.4079,-1046.452C713.191,-1040.933 704.9116,-1034.0555 699,-1026 675.0471,-993.36 678.0686,-979.0285 672,-939 665.2669,-894.5884 688.9726,-844.8145 703.8422,-818.8903\"/>\n<text text-anchor=\"middle\" x=\"685.5\" y=\"-927.8\" font-family=\"Times,serif\" font-size=\"14.00\" fill=\"#000000\">4.82</text>\n</g>\n<!-- EL YUCAL&#45;&#45;LAS PALMERAS -->\n<g id=\"edge17\" class=\"edge\">\n<title>EL YUCAL&#45;&#45;LAS PALMERAS</title>\n<path fill=\"none\" stroke=\"#000000\" d=\"M703.7836,-1052.0219C664.8535,-1040.7008 616,-1017.9396 616,-975 616,-975 616,-975 616,-801 616,-773.5171 636.0028,-747.8091 652.0988,-731.5711\"/>\n<text text-anchor=\"middle\" x=\"629.5\" y=\"-884.3\" font-family=\"Times,serif\" font-size=\"14.00\" fill=\"#000000\">6.41</text>\n</g>\n<!-- EL YUCAL&#45;&#45;MALLARITOS -->\n<g id=\"edge18\" class=\"edge\">\n<title>EL YUCAL&#45;&#45;MALLARITOS</title>\n<path fill=\"none\" stroke=\"#000000\" d=\"M749.9619,-1043.9326C748.8352,-1005.5511 752.1131,-915.6731 803,-870 841.1734,-835.7378 872.2453,-877.0625 917,-852 919.9613,-850.3417 1049.081,-697.8475 1093.8808,-644.882\"/>\n<text text-anchor=\"middle\" x=\"944.5\" y=\"-840.8\" font-family=\"Times,serif\" font-size=\"14.00\" fill=\"#000000\">5.29</text>\n</g>\n<!-- EL YUCAL&#45;&#45;MARCAVELICA -->\n<g id=\"edge19\" class=\"edge\">\n<title>EL YUCAL&#45;&#45;MARCAVELICA</title>\n<path fill=\"none\" stroke=\"#000000\" d=\"M747.9659,-1043.7368C747.1586,-1038.0696 746.4003,-1031.7914 746,-1026 744.6911,-1007.0609 746.198,-968.6783 748,-957 754.1168,-917.3582 754.9752,-906.3187 772,-870 816.398,-775.2865 927.7092,-758.0333 884,-663 878.8634,-651.8319 872.1345,-653.2262 863,-645 829.6873,-614.9998 791.9833,-578.8496 770.2037,-557.7436\"/>\n<text text-anchor=\"middle\" x=\"853.5\" y=\"-797.3\" font-family=\"Times,serif\" font-size=\"14.00\" fill=\"#000000\">7.2</text>\n</g>\n<!-- EL YUCAL&#45;&#45;MONTERON -->\n<g id=\"edge20\" class=\"edge\">\n<title>EL YUCAL&#45;&#45;MONTERON</title>\n<path fill=\"none\" stroke=\"#000000\" d=\"M699.0622,-1054.862C675.4606,-1049.7149 648.1538,-1040.929 627,-1026 510.1981,-943.5691 482.8987,-901.0531 439,-765 424.729,-720.7704 223.5441,-729.462 459,-489 487.7437,-459.6452 602.5531,-478.2076 643,-471 650.6785,-469.6317 658.7565,-467.8467 666.5724,-465.9331\"/>\n<text text-anchor=\"middle\" x=\"456\" y=\"-753.8\" font-family=\"Times,serif\" font-size=\"14.00\" fill=\"#000000\">10.66</text>\n</g>\n<!-- EL YUCAL&#45;&#45;SAMAN CHICO -->\n<g id=\"edge21\" class=\"edge\">\n<title>EL YUCAL&#45;&#45;SAMAN CHICO</title>\n<path fill=\"none\" stroke=\"#000000\" d=\"M801.4002,-1053.6631C825.1737,-1050.0659 853.974,-1046.1882 880,-1044 948.4543,-1038.2446 1431.5854,-1043.556 1498,-1026 1537.885,-1015.4568 1637.1633,-971.9411 1662,-939 1764.1875,-803.4682 1675.8317,-775.9906 1495,-522 1463.6472,-477.9628 1452.8802,-467.9174 1410,-435 1397.0563,-425.0636 1392.2096,-425.0225 1378,-417 1357.8257,-405.61 1335.1304,-392.749 1317.5775,-382.7916\"/>\n<text text-anchor=\"middle\" x=\"1669.5\" y=\"-710.3\" font-family=\"Times,serif\" font-size=\"14.00\" fill=\"#000000\">3.39</text>\n</g>\n<!-- EL YUCAL&#45;&#45;SAMAN -->\n<g id=\"edge22\" class=\"edge\">\n<title>EL YUCAL&#45;&#45;SAMAN</title>\n<path fill=\"none\" stroke=\"#000000\" d=\"M802.433,-1054.512C826.0463,-1051.1543 854.4247,-1047.2314 880,-1044 950.5571,-1035.0851 968.4758,-1035.1715 1039,-1026 1071.9646,-1021.7131 1606.1459,-961.0752 1631,-939 1692.0509,-884.7751 1699.387,-656.8572 1688,-576 1675.4678,-487.0113 1659.3743,-452.4431 1585,-402 1477.152,-328.854 1432.7523,-340.7074 1305,-315 1304.8544,-314.9707 1181.7904,-295.8776 1114.9813,-285.5129\"/>\n<text text-anchor=\"middle\" x=\"1705.5\" y=\"-666.8\" font-family=\"Times,serif\" font-size=\"14.00\" fill=\"#000000\">4.83</text>\n</g>\n<!-- EL YUCAL&#45;&#45;SAN MIGUEL DE TANGARARA -->\n<g id=\"edge23\" class=\"edge\">\n<title>EL YUCAL&#45;&#45;SAN MIGUEL DE TANGARARA</title>\n<path fill=\"none\" stroke=\"#000000\" d=\"M697.8648,-1055.8137C596.3488,-1040.935 375.5586,-993.2242 270,-852 203.1361,-762.5444 200.2463,-720.5347 206,-609 208.7819,-555.074 192.8172,-532.3592 225,-489 397.5918,-256.4707 536.0796,-273.9054 822,-228 869.358,-220.3965 922.1095,-212.3428 965.7999,-205.7853\"/>\n<text text-anchor=\"middle\" x=\"223\" y=\"-623.3\" font-family=\"Times,serif\" font-size=\"14.00\" fill=\"#000000\">13.36</text>\n</g>\n<!-- EL YUCAL&#45;&#45;SAN ROLANDO -->\n<g id=\"edge24\" class=\"edge\">\n<title>EL YUCAL&#45;&#45;SAN ROLANDO</title>\n<path fill=\"none\" stroke=\"#000000\" d=\"M697.8861,-1055.6062C610.8603,-1044.5146 442.2456,-1020.2645 389,-993 334.1373,-964.9074 322.5765,-951.5028 281,-906 177.1804,-792.3761 151.346,-727.9246 176,-576 194.8822,-459.6427 254,-440.3794 254,-322.5 254,-322.5 254,-322.5 254,-192 254,-139.9345 409.946,-118.3228 507.1077,-109.9104\"/>\n<text text-anchor=\"middle\" x=\"189\" y=\"-579.8\" font-family=\"Times,serif\" font-size=\"14.00\" fill=\"#000000\">11.2</text>\n</g>\n<!-- EL YUCAL&#45;&#45;VISTA FLORIDA -->\n<g id=\"edge25\" class=\"edge\">\n<title>EL YUCAL&#45;&#45;VISTA FLORIDA</title>\n<path fill=\"none\" stroke=\"#000000\" d=\"M801.7297,-1053.8462C825.4478,-1050.3104 854.1092,-1046.4311 880,-1044 974.4504,-1035.1312 1731,-1069.8659 1731,-975 1731,-975 1731,-975 1731,-844.5 1731,-771.7179 1811.4032,-793.7051 1850,-732 1908.1812,-638.9853 1924,-606.2123 1924,-496.5 1924,-496.5 1924,-496.5 1924,-105 1924,-82.5031 1879.2614,-70.0087 1796,-54 1672.4803,-30.2509 1304.7915,-21.7538 1140.2151,-19.084\"/>\n<text text-anchor=\"middle\" x=\"1932.5\" y=\"-536.3\" font-family=\"Times,serif\" font-size=\"14.00\" fill=\"#000000\">6.7</text>\n</g>\n<!-- LA NORIA&#45;&#45;LA QUINTA -->\n<g id=\"edge26\" class=\"edge\">\n<title>LA NORIA&#45;&#45;LA QUINTA</title>\n<path fill=\"none\" stroke=\"#000000\" d=\"M1115.5702,-960.2416C1150.6626,-944.3404 1206.2229,-919.1646 1241.6247,-903.1232\"/>\n<text text-anchor=\"middle\" x=\"1204.5\" y=\"-927.8\" font-family=\"Times,serif\" font-size=\"14.00\" fill=\"#000000\">7.18</text>\n</g>\n<!-- LA NORIA&#45;&#45;LA SEGUNDA -->\n<g id=\"edge27\" class=\"edge\">\n<title>LA NORIA&#45;&#45;LA SEGUNDA</title>\n<path fill=\"none\" stroke=\"#000000\" d=\"M1030.5789,-969.098C978.5211,-962.6663 902.7269,-951.5959 876,-939 813.3936,-909.4949 755.912,-848.9011 729.7922,-818.7924\"/>\n<text text-anchor=\"middle\" x=\"835.5\" y=\"-884.3\" font-family=\"Times,serif\" font-size=\"14.00\" fill=\"#000000\">7.32</text>\n</g>\n<!-- LA NORIA&#45;&#45;LAS PALMERAS -->\n<g id=\"edge28\" class=\"edge\">\n<title>LA NORIA&#45;&#45;LAS PALMERAS</title>\n<path fill=\"none\" stroke=\"#000000\" d=\"M1032.0606,-967.973C992.5501,-961.6954 941.7788,-951.5608 925,-939 883.4271,-907.8779 902.3111,-875.9826 868,-837 841.3366,-806.7064 828.8874,-804.9155 795,-783 765.0854,-763.6538 729.4423,-744.0096 704.2458,-730.6555\"/>\n<text text-anchor=\"middle\" x=\"896\" y=\"-840.8\" font-family=\"Times,serif\" font-size=\"14.00\" fill=\"#000000\">10.39</text>\n</g>\n<!-- LA NORIA&#45;&#45;MALLARITOS -->\n<g id=\"edge29\" class=\"edge\">\n<title>LA NORIA&#45;&#45;MALLARITOS</title>\n<path fill=\"none\" stroke=\"#000000\" d=\"M1084.3613,-956.78C1088.8542,-896.6441 1103.179,-704.9115 1107.6522,-645.0397\"/>\n<text text-anchor=\"middle\" x=\"1107.5\" y=\"-797.3\" font-family=\"Times,serif\" font-size=\"14.00\" fill=\"#000000\">9.1</text>\n</g>\n<!-- LA NORIA&#45;&#45;MARCAVELICA -->\n<g id=\"edge30\" class=\"edge\">\n<title>LA NORIA&#45;&#45;MARCAVELICA</title>\n<path fill=\"none\" stroke=\"#000000\" d=\"M1058.4124,-958.8156C1028.6185,-937.8449 979.1682,-898.4179 953,-852 910.789,-777.1249 954.2209,-737.8695 912,-663 883.5167,-612.4911 824.9907,-575.8818 787.1706,-556.3101\"/>\n<text text-anchor=\"middle\" x=\"950\" y=\"-753.8\" font-family=\"Times,serif\" font-size=\"14.00\" fill=\"#000000\">11.18</text>\n</g>\n<!-- LA NORIA&#45;&#45;MONTERON -->\n<g id=\"edge31\" class=\"edge\">\n<title>LA NORIA&#45;&#45;MONTERON</title>\n<path fill=\"none\" stroke=\"#000000\" d=\"M1028.5877,-971.188C980.1065,-966.7412 907.6558,-957.4944 847,-939 754.8333,-910.8977 502.8738,-821.0212 466,-732 415.8335,-610.8874 599.9126,-506.4168 678.2831,-468.3505\"/>\n<text text-anchor=\"middle\" x=\"483\" y=\"-710.3\" font-family=\"Times,serif\" font-size=\"14.00\" fill=\"#000000\">11.51</text>\n</g>\n<!-- LA NORIA&#45;&#45;SAMAN CHICO -->\n<g id=\"edge32\" class=\"edge\">\n<title>LA NORIA&#45;&#45;SAMAN CHICO</title>\n<path fill=\"none\" stroke=\"#000000\" d=\"M1121.4119,-962.0365C1128.5201,-960.0505 1135.9318,-958.2491 1143,-957 1176.7575,-951.0343 1424.5775,-960.8406 1451,-939 1522.5334,-879.8713 1513.2318,-606.1077 1474,-522 1469.5349,-512.4274 1357.9702,-422.1579 1309.8064,-383.4675\"/>\n<text text-anchor=\"middle\" x=\"1516.5\" y=\"-666.8\" font-family=\"Times,serif\" font-size=\"14.00\" fill=\"#000000\">2.77</text>\n</g>\n<!-- LA NORIA&#45;&#45;SAMAN -->\n<g id=\"edge33\" class=\"edge\">\n<title>LA NORIA&#45;&#45;SAMAN</title>\n<path fill=\"none\" stroke=\"#000000\" d=\"M1123.2375,-962.5223C1129.8208,-960.5981 1136.5852,-958.691 1143,-957 1278.787,-921.2061 1338.5982,-948.0895 1441,-852 1499.5422,-797.0665 1626.4692,-592.4628 1588,-522 1580.9109,-509.0151 1570.3318,-514.5886 1560,-504 1534.9276,-478.3044 1543.4279,-460.3438 1518,-435 1428.1437,-345.4408 1382.3698,-344.5789 1259,-315 1209.7439,-303.1905 1152.4398,-292.5617 1114.5952,-285.9667\"/>\n<text text-anchor=\"middle\" x=\"1599.5\" y=\"-623.3\" font-family=\"Times,serif\" font-size=\"14.00\" fill=\"#000000\">5.52</text>\n</g>\n<!-- LA NORIA&#45;&#45;SAN MIGUEL DE TANGARARA -->\n<g id=\"edge34\" class=\"edge\">\n<title>LA NORIA&#45;&#45;SAN MIGUEL DE TANGARARA</title>\n<path fill=\"none\" stroke=\"#000000\" d=\"M1121.408,-962.0148C1128.5167,-960.031 1135.9295,-958.236 1143,-957 1179.0634,-950.6959 1440.8181,-958.1833 1472,-939 1563.3865,-882.7785 1680.8361,-590.8207 1647,-489 1585.2439,-303.1613 1481.9613,-275.5871 1292,-228 1251.1044,-217.7552 1205.3988,-209.9266 1165.374,-204.2283\"/>\n<text text-anchor=\"middle\" x=\"1667\" y=\"-579.8\" font-family=\"Times,serif\" font-size=\"14.00\" fill=\"#000000\">13.72</text>\n</g>\n<!-- LA NORIA&#45;&#45;SAN ROLANDO -->\n<g id=\"edge35\" class=\"edge\">\n<title>LA NORIA&#45;&#45;SAN ROLANDO</title>\n<path fill=\"none\" stroke=\"#000000\" d=\"M1030.921,-968.9718C973.7255,-962.2232 879.2025,-950.6928 798,-939 795.1591,-938.5909 596.6734,-907.0444 594,-906 463.4531,-855.0004 405.9829,-850.4104 331,-732 218.7799,-554.7858 247.7466,-437.5557 361,-261 405.7632,-191.2166 493.9067,-143.651 544.625,-120.7373\"/>\n<text text-anchor=\"middle\" x=\"275.5\" y=\"-536.3\" font-family=\"Times,serif\" font-size=\"14.00\" fill=\"#000000\">10.2</text>\n</g>\n<!-- LA NORIA&#45;&#45;VISTA FLORIDA -->\n<g id=\"edge36\" class=\"edge\">\n<title>LA NORIA&#45;&#45;VISTA FLORIDA</title>\n<path fill=\"none\" stroke=\"#000000\" d=\"M1121.4043,-961.9931C1128.5133,-960.0116 1135.9272,-958.2228 1143,-957 1220.3981,-943.6183 1422.6091,-966.9877 1496,-939 1517.8561,-930.6651 1520.7917,-922.8657 1537,-906 1603.7057,-836.5888 1612.6761,-812.1506 1666,-732 1685.7591,-702.3003 1684.9199,-691.0172 1707,-663 1772.6582,-579.6873 1878,-602.5754 1878,-496.5 1878,-496.5 1878,-496.5 1878,-105 1878,-22.7057 1781.1415,-67.7258 1700,-54 1594.5658,-36.1649 1287.0868,-24.8414 1139.6624,-20.2876\"/>\n<text text-anchor=\"middle\" x=\"1891.5\" y=\"-492.8\" font-family=\"Times,serif\" font-size=\"14.00\" fill=\"#000000\">9.82</text>\n</g>\n<!-- LA QUINTA&#45;&#45;LA SEGUNDA -->\n<g id=\"edge37\" class=\"edge\">\n<title>LA QUINTA&#45;&#45;LA SEGUNDA</title>\n<path fill=\"none\" stroke=\"#000000\" d=\"M1214.4448,-885.2329C1112.3252,-880.1889 910.2299,-868.4789 841,-852 823.2653,-847.7786 781.0438,-830.0768 750.3514,-816.7034\"/>\n<text text-anchor=\"middle\" x=\"854.5\" y=\"-840.8\" font-family=\"Times,serif\" font-size=\"14.00\" fill=\"#000000\">2.52</text>\n</g>\n<!-- LA QUINTA&#45;&#45;LAS PALMERAS -->\n<g id=\"edge38\" class=\"edge\">\n<title>LA QUINTA&#45;&#45;LAS PALMERAS</title>\n<path fill=\"none\" stroke=\"#000000\" d=\"M1225.4801,-877.3958C1195.4013,-870.6955 1156.3128,-861.5266 1122,-852 1025.3018,-825.1528 1002.9308,-812.472 907,-783 843.3891,-763.4574 769.7278,-742.0218 722.077,-728.3113\"/>\n<text text-anchor=\"middle\" x=\"1028.5\" y=\"-797.3\" font-family=\"Times,serif\" font-size=\"14.00\" fill=\"#000000\">3.39</text>\n</g>\n<!-- LA QUINTA&#45;&#45;MALLARITOS -->\n<g id=\"edge39\" class=\"edge\">\n<title>LA QUINTA&#45;&#45;MALLARITOS</title>\n<path fill=\"none\" stroke=\"#000000\" d=\"M1246.0259,-871.9678C1237.8302,-866.4322 1229.4074,-859.667 1223,-852 1163.8199,-781.1858 1184.7672,-741.9635 1137,-663 1133.2296,-656.7672 1128.553,-650.3648 1124.1084,-644.7197\"/>\n<text text-anchor=\"middle\" x=\"1190.5\" y=\"-753.8\" font-family=\"Times,serif\" font-size=\"14.00\" fill=\"#000000\">1.93</text>\n</g>\n<!-- LA QUINTA&#45;&#45;MARCAVELICA -->\n<g id=\"edge40\" class=\"edge\">\n<title>LA QUINTA&#45;&#45;MARCAVELICA</title>\n<path fill=\"none\" stroke=\"#000000\" d=\"M1242.2951,-872.586C1231.0483,-866.7308 1218.6218,-859.6205 1208,-852 1079.4852,-759.7989 1083.2494,-691.0042 948,-609 904.0422,-582.3476 848.2915,-563.9872 807.4969,-552.9458\"/>\n<text text-anchor=\"middle\" x=\"1097.5\" y=\"-710.3\" font-family=\"Times,serif\" font-size=\"14.00\" fill=\"#000000\">4.12</text>\n</g>\n<!-- LA QUINTA&#45;&#45;MONTERON -->\n<g id=\"edge41\" class=\"edge\">\n<title>LA QUINTA&#45;&#45;MONTERON</title>\n<path fill=\"none\" stroke=\"#000000\" d=\"M1267.5824,-869.7938C1265.3656,-864.1289 1262.9961,-857.8377 1261,-852 1224.5556,-745.4176 1257.579,-698.3584 1189,-609 1177.7345,-594.3211 1063.8518,-529.642 1047,-522 1002.0634,-501.6219 989.0547,-500.1944 941,-489 884.1662,-475.7605 818.2475,-465.9695 771.7687,-459.9679\"/>\n<text text-anchor=\"middle\" x=\"1240.5\" y=\"-666.8\" font-family=\"Times,serif\" font-size=\"14.00\" fill=\"#000000\">8.78</text>\n</g>\n<!-- LA QUINTA&#45;&#45;SAMAN CHICO -->\n<g id=\"edge42\" class=\"edge\">\n<title>LA QUINTA&#45;&#45;SAMAN CHICO</title>\n<path fill=\"none\" stroke=\"#000000\" d=\"M1282.9667,-869.9587C1285.2058,-864.3005 1287.4499,-857.9716 1289,-852 1308.6145,-776.4388 1307.6541,-755.8822 1313,-678 1321.4095,-555.4856 1322.6807,-522.69 1300,-402 1298.8806,-396.0432 1297.0159,-389.7185 1295.0863,-384.0596\"/>\n<text text-anchor=\"middle\" x=\"1331.5\" y=\"-623.3\" font-family=\"Times,serif\" font-size=\"14.00\" fill=\"#000000\">5.23</text>\n</g>\n<!-- LA QUINTA&#45;&#45;SAMAN -->\n<g id=\"edge43\" class=\"edge\">\n<title>LA QUINTA&#45;&#45;SAMAN</title>\n<path fill=\"none\" stroke=\"#000000\" d=\"M1275.8614,-869.834C1277.2171,-831.0864 1277.9086,-737.763 1258,-663 1217.8216,-512.1177 1118.1975,-349.0902 1084.4149,-296.438\"/>\n<text text-anchor=\"middle\" x=\"1244.5\" y=\"-579.8\" font-family=\"Times,serif\" font-size=\"14.00\" fill=\"#000000\">4.6</text>\n</g>\n<!-- LA QUINTA&#45;&#45;SAN MIGUEL DE TANGARARA -->\n<g id=\"edge44\" class=\"edge\">\n<title>LA QUINTA&#45;&#45;SAN MIGUEL DE TANGARARA</title>\n<path fill=\"none\" stroke=\"#000000\" d=\"M1291.6034,-870.6157C1296.3823,-864.9842 1301.298,-858.5052 1305,-852 1345.5312,-780.7773 1410.2214,-584.2118 1427,-504 1433.2848,-473.9547 1430.5114,-465.6914 1430,-435 1429.111,-381.6445 1453.6014,-360.6702 1426,-315 1400.8795,-273.4347 1374.2846,-283.0263 1331,-261 1299.2668,-244.8519 1291.9966,-238.5822 1258,-228 1226.237,-218.1131 1190.7258,-210.6133 1158.5919,-205.088\"/>\n<text text-anchor=\"middle\" x=\"1440\" y=\"-536.3\" font-family=\"Times,serif\" font-size=\"14.00\" fill=\"#000000\">11.65</text>\n</g>\n<!-- LA QUINTA&#45;&#45;SAN ROLANDO -->\n<g id=\"edge45\" class=\"edge\">\n<title>LA QUINTA&#45;&#45;SAN ROLANDO</title>\n<path fill=\"none\" stroke=\"#000000\" d=\"M1300.8412,-871.2637C1308.4581,-865.6585 1316.4886,-859.0315 1323,-852 1334.8119,-839.2446 1335.756,-834.3055 1344,-819 1372.7692,-765.5886 1582.777,-368.4072 1554,-315 1522.8238,-257.1402 1358.1913,-173.8642 1236,-141 1181.8291,-126.4304 822.1451,-112.9015 660.9263,-107.4892\"/>\n<text text-anchor=\"middle\" x=\"1523\" y=\"-492.8\" font-family=\"Times,serif\" font-size=\"14.00\" fill=\"#000000\">10.85</text>\n</g>\n<!-- LA QUINTA&#45;&#45;VISTA FLORIDA -->\n<g id=\"edge46\" class=\"edge\">\n<title>LA QUINTA&#45;&#45;VISTA FLORIDA</title>\n<path fill=\"none\" stroke=\"#000000\" d=\"M1308.2435,-872.7004C1319.6625,-866.8553 1332.2643,-859.7219 1343,-852 1434.1097,-786.467 1454.6364,-764.6187 1526,-678 1549.1273,-649.9288 1546.9338,-637.1214 1570,-609 1651.2351,-509.9616 1778,-537.5928 1778,-409.5 1778,-409.5 1778,-409.5 1778,-105 1778,-41.3457 1328.1176,-23.9581 1140.0808,-19.4707\"/>\n<text text-anchor=\"middle\" x=\"1788.5\" y=\"-449.3\" font-family=\"Times,serif\" font-size=\"14.00\" fill=\"#000000\">3.32</text>\n</g>\n<!-- LA SEGUNDA&#45;&#45;LAS PALMERAS -->\n<g id=\"edge47\" class=\"edge\">\n<title>LA SEGUNDA&#45;&#45;LAS PALMERAS</title>\n<path fill=\"none\" stroke=\"#000000\" d=\"M706.0904,-782.9735C698.7105,-768.0422 688.2749,-746.9283 680.8982,-732.0034\"/>\n<text text-anchor=\"middle\" x=\"710.5\" y=\"-753.8\" font-family=\"Times,serif\" font-size=\"14.00\" fill=\"#000000\">5.12</text>\n</g>\n<!-- LA SEGUNDA&#45;&#45;MALLARITOS -->\n<g id=\"edge48\" class=\"edge\">\n<title>LA SEGUNDA&#45;&#45;MALLARITOS</title>\n<path fill=\"none\" stroke=\"#000000\" d=\"M768.9696,-789.1949C791.9795,-783.2766 818.8117,-775.1778 842,-765 881.6455,-747.5988 968.9519,-681.7032 1008,-663 1025.6282,-654.5565 1045.7869,-646.983 1063.4346,-640.9864\"/>\n<text text-anchor=\"middle\" x=\"966.5\" y=\"-710.3\" font-family=\"Times,serif\" font-size=\"14.00\" fill=\"#000000\">3.54</text>\n</g>\n<!-- LA SEGUNDA&#45;&#45;MARCAVELICA -->\n<g id=\"edge49\" class=\"edge\">\n<title>LA SEGUNDA&#45;&#45;MARCAVELICA</title>\n<path fill=\"none\" stroke=\"#000000\" d=\"M731.5234,-783.282C742.527,-770.2097 756.023,-751.3916 762,-732 780.9751,-670.4374 765.6555,-592.5717 756.9663,-557.9756\"/>\n<text text-anchor=\"middle\" x=\"785.5\" y=\"-666.8\" font-family=\"Times,serif\" font-size=\"14.00\" fill=\"#000000\">5.67</text>\n</g>\n<!-- LA SEGUNDA&#45;&#45;MONTERON -->\n<g id=\"edge50\" class=\"edge\">\n<title>LA SEGUNDA&#45;&#45;MONTERON</title>\n<path fill=\"none\" stroke=\"#000000\" d=\"M663.4963,-788.5411C634.1104,-778.5058 599.6984,-761.1202 582,-732 522.499,-634.0992 599.5894,-580.8963 668,-489 673.3043,-481.8747 680.3173,-475.3099 687.1819,-469.7922\"/>\n<text text-anchor=\"middle\" x=\"586.5\" y=\"-623.3\" font-family=\"Times,serif\" font-size=\"14.00\" fill=\"#000000\">6.3</text>\n</g>\n<!-- LA SEGUNDA&#45;&#45;SAMAN CHICO -->\n<g id=\"edge51\" class=\"edge\">\n<title>LA SEGUNDA&#45;&#45;SAMAN CHICO</title>\n<path fill=\"none\" stroke=\"#000000\" d=\"M767.073,-788.7324C796.4281,-781.8003 833.7691,-772.9551 867,-765 894.5715,-758.3997 901.0435,-754.7104 929,-750 1010.8985,-736.2008 1039.5258,-766.6616 1115,-732 1156.1342,-713.1091 1241.879,-631.5467 1262,-591 1296.7843,-520.9046 1293.2007,-423.8264 1289.8805,-384.0713\"/>\n<text text-anchor=\"middle\" x=\"1282.5\" y=\"-579.8\" font-family=\"Times,serif\" font-size=\"14.00\" fill=\"#000000\">4.74</text>\n</g>\n<!-- LA SEGUNDA&#45;&#45;SAMAN -->\n<g id=\"edge52\" class=\"edge\">\n<title>LA SEGUNDA&#45;&#45;SAMAN</title>\n<path fill=\"none\" stroke=\"#000000\" d=\"M741.206,-784.1576C748.9745,-778.5481 757.212,-771.9453 764,-765 894.121,-631.8636 871.1551,-557.8346 973,-402 999.348,-361.6844 1036.4034,-319.0099 1057.2147,-296.041\"/>\n<text text-anchor=\"middle\" x=\"922.5\" y=\"-536.3\" font-family=\"Times,serif\" font-size=\"14.00\" fill=\"#000000\">2.84</text>\n</g>\n<!-- LA SEGUNDA&#45;&#45;SAN MIGUEL DE TANGARARA -->\n<g id=\"edge53\" class=\"edge\">\n<title>LA SEGUNDA&#45;&#45;SAN MIGUEL DE TANGARARA</title>\n<path fill=\"none\" stroke=\"#000000\" d=\"M652.0014,-792.5078C617.0718,-783.924 577.6181,-766.6707 562,-732 507.4513,-610.9069 542.8727,-557.155 595,-435 601.9185,-418.7873 603.3119,-413.1064 617,-402 633.7271,-388.4278 645.4291,-397.7625 662,-384 686.8986,-363.3212 718.8923,-285.5361 740,-261 754.5877,-244.0429 757.5871,-237.1466 778,-228 782.1798,-226.1271 876.6857,-214.239 954.9565,-204.6285\"/>\n<text text-anchor=\"middle\" x=\"585.5\" y=\"-492.8\" font-family=\"Times,serif\" font-size=\"14.00\" fill=\"#000000\">9.16</text>\n</g>\n<!-- LA SEGUNDA&#45;&#45;SAN ROLANDO -->\n<g id=\"edge54\" class=\"edge\">\n<title>LA SEGUNDA&#45;&#45;SAN ROLANDO</title>\n<path fill=\"none\" stroke=\"#000000\" d=\"M663.2177,-788.5936C635.5067,-781.841 600.8292,-773.2097 570,-765 460.4833,-735.8359 394.1519,-747.1202 345,-645 250.0088,-447.642 349.128,-341.7159 490,-174 507.8441,-152.7556 533.4748,-134.3647 553.3118,-121.9243\"/>\n<text text-anchor=\"middle\" x=\"330.5\" y=\"-449.3\" font-family=\"Times,serif\" font-size=\"14.00\" fill=\"#000000\">8.49</text>\n</g>\n<!-- LA SEGUNDA&#45;&#45;VISTA FLORIDA -->\n<g id=\"edge55\" class=\"edge\">\n<title>LA SEGUNDA&#45;&#45;VISTA FLORIDA</title>\n<path fill=\"none\" stroke=\"#000000\" d=\"M646.2108,-796.4174C572.7782,-790.8427 461.6424,-780.2484 422,-765 398.1779,-755.8368 394.1935,-748.8246 375,-732 212.882,-589.8915 115,-538.0855 115,-322.5 115,-322.5 115,-322.5 115,-105 115,-67.9295 146.1698,-66.6917 181,-54 254.506,-27.2153 773.9206,-20.241 977.4646,-18.5267\"/>\n<text text-anchor=\"middle\" x=\"136.5\" y=\"-405.8\" font-family=\"Times,serif\" font-size=\"14.00\" fill=\"#000000\">2.66</text>\n</g>\n<!-- LAS PALMERAS&#45;&#45;MALLARITOS -->\n<g id=\"edge56\" class=\"edge\">\n<title>LAS PALMERAS&#45;&#45;MALLARITOS</title>\n<path fill=\"none\" stroke=\"#000000\" d=\"M732.763,-701.903C817.6602,-685.0013 970.5858,-654.5562 1052.9038,-638.1679\"/>\n<text text-anchor=\"middle\" x=\"926.5\" y=\"-666.8\" font-family=\"Times,serif\" font-size=\"14.00\" fill=\"#000000\">1.6</text>\n</g>\n<!-- LAS PALMERAS&#45;&#45;MARCAVELICA -->\n<g id=\"edge57\" class=\"edge\">\n<title>LAS PALMERAS&#45;&#45;MARCAVELICA</title>\n<path fill=\"none\" stroke=\"#000000\" d=\"M689.4979,-696.3175C694.3347,-690.7747 699.2727,-684.4195 703,-678 726.1061,-638.2045 741.0335,-585.6971 747.7968,-558.3467\"/>\n<text text-anchor=\"middle\" x=\"743.5\" y=\"-623.3\" font-family=\"Times,serif\" font-size=\"14.00\" fill=\"#000000\">0.8</text>\n</g>\n<!-- LAS PALMERAS&#45;&#45;MONTERON -->\n<g id=\"edge58\" class=\"edge\">\n<title>LAS PALMERAS&#45;&#45;MONTERON</title>\n<path fill=\"none\" stroke=\"#000000\" d=\"M670.9095,-695.8265C668.176,-649.5262 661.4293,-530.1971 664,-522 670.1135,-502.5065 683.8958,-483.698 695.1308,-470.6553\"/>\n<text text-anchor=\"middle\" x=\"683\" y=\"-579.8\" font-family=\"Times,serif\" font-size=\"14.00\" fill=\"#000000\">10.49</text>\n</g>\n<!-- LAS PALMERAS&#45;&#45;SAMAN CHICO -->\n<g id=\"edge59\" class=\"edge\">\n<title>LAS PALMERAS&#45;&#45;SAMAN CHICO</title>\n<path fill=\"none\" stroke=\"#000000\" d=\"M749.7199,-708.5224C808.2259,-703.2382 882.6789,-693.6868 909,-678 957.7922,-648.921 939.2995,-608.3316 986,-576 1009.2406,-559.9101 1021.9252,-571.0487 1047,-558 1095.4032,-532.8115 1219.7012,-425.8453 1268.2001,-383.4295\"/>\n<text text-anchor=\"middle\" x=\"1114.5\" y=\"-536.3\" font-family=\"Times,serif\" font-size=\"14.00\" fill=\"#000000\">8.61</text>\n</g>\n<!-- LAS PALMERAS&#45;&#45;SAMAN -->\n<g id=\"edge60\" class=\"edge\">\n<title>LAS PALMERAS&#45;&#45;SAMAN</title>\n<path fill=\"none\" stroke=\"#000000\" d=\"M739.711,-703.9959C758.2197,-698.6696 777.2252,-690.5076 792,-678 863.4532,-617.5113 843.3994,-572.8679 885,-489 896.9235,-464.9619 899.0161,-458.4823 912,-435 942.2072,-380.3684 937.5076,-355.5161 985,-315 999.316,-302.7869 1018.3325,-294.3122 1035.0242,-288.6683\"/>\n<text text-anchor=\"middle\" x=\"898.5\" y=\"-492.8\" font-family=\"Times,serif\" font-size=\"14.00\" fill=\"#000000\">7.77</text>\n</g>\n<!-- LAS PALMERAS&#45;&#45;SAN MIGUEL DE TANGARARA -->\n<g id=\"edge61\" class=\"edge\">\n<title>LAS PALMERAS&#45;&#45;SAN MIGUEL DE TANGARARA</title>\n<path fill=\"none\" stroke=\"#000000\" d=\"M664.2776,-695.7953C641.7082,-641.3712 579.0452,-480.8412 605,-435 626.7064,-396.6624 657.946,-414.2239 690,-384 752.479,-325.0882 728.0948,-268.1575 804,-228 811.0271,-224.2823 888.9793,-213.5807 956.8657,-204.8046\"/>\n<text text-anchor=\"middle\" x=\"622\" y=\"-449.3\" font-family=\"Times,serif\" font-size=\"14.00\" fill=\"#000000\">13.32</text>\n</g>\n<!-- LAS PALMERAS&#45;&#45;SAN ROLANDO -->\n<g id=\"edge62\" class=\"edge\">\n<title>LAS PALMERAS&#45;&#45;SAN ROLANDO</title>\n<path fill=\"none\" stroke=\"#000000\" d=\"M659.923,-695.9473C641.0981,-667.9135 606.1664,-616.354 599,-609 543.9704,-552.5302 501.7612,-568.2106 456,-504 432.5032,-471.0301 435.0686,-457.0285 429,-417 410.4385,-294.5674 520.357,-168.1481 564.8893,-122.637\"/>\n<text text-anchor=\"middle\" x=\"446\" y=\"-405.8\" font-family=\"Times,serif\" font-size=\"14.00\" fill=\"#000000\">13.54</text>\n</g>\n<!-- LAS PALMERAS&#45;&#45;VISTA FLORIDA -->\n<g id=\"edge63\" class=\"edge\">\n<title>LAS PALMERAS&#45;&#45;VISTA FLORIDA</title>\n<path fill=\"none\" stroke=\"#000000\" d=\"M631.5739,-698.1961C513.5923,-649.1337 178,-487.4357 178,-235.5 178,-235.5 178,-235.5 178,-105 178,28.056 340.8424,-69.436 473,-54 652.7004,-33.0111 864.9248,-23.821 978.181,-20.1584\"/>\n<text text-anchor=\"middle\" x=\"231.5\" y=\"-362.3\" font-family=\"Times,serif\" font-size=\"14.00\" fill=\"#000000\">3.74</text>\n</g>\n<!-- MALLARITOS&#45;&#45;MARCAVELICA -->\n<g id=\"edge64\" class=\"edge\">\n<title>MALLARITOS&#45;&#45;MARCAVELICA</title>\n<path fill=\"none\" stroke=\"#000000\" d=\"M1067.103,-612.3772C1025.2574,-597.8008 966.38,-577.3807 961,-576 914.8159,-564.1476 861.8754,-555.0743 820.8322,-549.0014\"/>\n<text text-anchor=\"middle\" x=\"1018.5\" y=\"-579.8\" font-family=\"Times,serif\" font-size=\"14.00\" fill=\"#000000\">2.25</text>\n</g>\n<!-- MALLARITOS&#45;&#45;MONTERON -->\n<g id=\"edge65\" class=\"edge\">\n<title>MALLARITOS&#45;&#45;MONTERON</title>\n<path fill=\"none\" stroke=\"#000000\" d=\"M1086.1868,-609.9105C1039.0685,-574.7415 933.8215,-496.889 915,-489 870.2708,-470.2517 816.0202,-461.2647 774.8585,-456.9581\"/>\n<text text-anchor=\"middle\" x=\"1029.5\" y=\"-536.3\" font-family=\"Times,serif\" font-size=\"14.00\" fill=\"#000000\">9.19</text>\n</g>\n<!-- MALLARITOS&#45;&#45;SAMAN CHICO -->\n<g id=\"edge66\" class=\"edge\">\n<title>MALLARITOS&#45;&#45;SAMAN CHICO</title>\n<path fill=\"none\" stroke=\"#000000\" d=\"M1128.6331,-609.4746C1142.8211,-596.2021 1161.8925,-577.0566 1176,-558 1223.1064,-494.368 1219.6336,-468.8815 1262,-402 1265.7955,-396.0082 1270.221,-389.6736 1274.3333,-384.0164\"/>\n<text text-anchor=\"middle\" x=\"1230.5\" y=\"-492.8\" font-family=\"Times,serif\" font-size=\"14.00\" fill=\"#000000\">7.14</text>\n</g>\n<!-- MALLARITOS&#45;&#45;SAMAN -->\n<g id=\"edge67\" class=\"edge\">\n<title>MALLARITOS&#45;&#45;SAMAN</title>\n<path fill=\"none\" stroke=\"#000000\" d=\"M1107.1152,-608.78C1100.8942,-548.6441 1081.0598,-356.9115 1074.8662,-297.0397\"/>\n<text text-anchor=\"middle\" x=\"1106.5\" y=\"-449.3\" font-family=\"Times,serif\" font-size=\"14.00\" fill=\"#000000\">6.17</text>\n</g>\n<!-- MALLARITOS&#45;&#45;SAN MIGUEL DE TANGARARA -->\n<g id=\"edge68\" class=\"edge\">\n<title>MALLARITOS&#45;&#45;SAN MIGUEL DE TANGARARA</title>\n<path fill=\"none\" stroke=\"#000000\" d=\"M1178.4499,-622.6899C1230.1896,-618.0759 1295.1699,-608.8563 1315,-591 1386.09,-526.9858 1360.7615,-478.7436 1374,-384 1376.2142,-368.1539 1380.5219,-362.6104 1374,-348 1335.8159,-262.46 1230.1705,-223.4142 1151.693,-205.8603\"/>\n<text text-anchor=\"middle\" x=\"1389\" y=\"-405.8\" font-family=\"Times,serif\" font-size=\"14.00\" fill=\"#000000\">12.06</text>\n</g>\n<!-- MALLARITOS&#45;&#45;SAN ROLANDO -->\n<g id=\"edge69\" class=\"edge\">\n<title>MALLARITOS&#45;&#45;SAN ROLANDO</title>\n<path fill=\"none\" stroke=\"#000000\" d=\"M1087.0997,-609.7599C1072.4508,-598.8855 1052.3754,-585.2063 1033,-576 1008.2378,-564.2341 994.8018,-575.8575 974,-558 915.6283,-507.8904 961.4547,-446.9181 899,-402 872.819,-383.1703 786.3711,-391.4736 755,-384 676.026,-365.1858 583,-403.6841 583,-322.5 583,-322.5 583,-322.5 583,-192 583,-168.2865 583,-140.9371 583,-123.3306\"/>\n<text text-anchor=\"middle\" x=\"768.5\" y=\"-362.3\" font-family=\"Times,serif\" font-size=\"14.00\" fill=\"#000000\">12.0</text>\n</g>\n<!-- MALLARITOS&#45;&#45;VISTA FLORIDA -->\n<g id=\"edge70\" class=\"edge\">\n<title>MALLARITOS&#45;&#45;VISTA FLORIDA</title>\n<path fill=\"none\" stroke=\"#000000\" d=\"M1176.8665,-621.1686C1233.7548,-615.3951 1309.9022,-605.3362 1337,-591 1416.5951,-548.8899 1425.8867,-490.6355 1410,-402 1381.1148,-240.8424 1345.2567,-191.237 1219,-87 1187.2742,-60.8073 1144.1009,-42.9708 1110.5968,-32.0042\"/>\n<text text-anchor=\"middle\" x=\"1408.5\" y=\"-318.8\" font-family=\"Times,serif\" font-size=\"14.00\" fill=\"#000000\">2.65</text>\n</g>\n<!-- MARCAVELICA&#45;&#45;MONTERON -->\n<g id=\"edge71\" class=\"edge\">\n<title>MARCAVELICA&#45;&#45;MONTERON</title>\n<path fill=\"none\" stroke=\"#000000\" d=\"M743.712,-521.9735C736.847,-507.0422 727.1395,-485.9283 720.2774,-471.0034\"/>\n<text text-anchor=\"middle\" x=\"748.5\" y=\"-492.8\" font-family=\"Times,serif\" font-size=\"14.00\" fill=\"#000000\">10.7</text>\n</g>\n<!-- MARCAVELICA&#45;&#45;SAMAN CHICO -->\n<g id=\"edge72\" class=\"edge\">\n<title>MARCAVELICA&#45;&#45;SAMAN CHICO</title>\n<path fill=\"none\" stroke=\"#000000\" d=\"M819.8162,-530.4552C849.727,-524.8777 884.8557,-516.4213 915,-504 968.0109,-482.1563 971.9264,-458.9926 1024,-435 1069.199,-414.1748 1082.936,-414.9034 1131,-402 1163.8147,-393.1904 1200.846,-384.6339 1230.6997,-378.0747\"/>\n<text text-anchor=\"middle\" x=\"1037.5\" y=\"-449.3\" font-family=\"Times,serif\" font-size=\"14.00\" fill=\"#000000\">9.35</text>\n</g>\n<!-- MARCAVELICA&#45;&#45;SAMAN -->\n<g id=\"edge73\" class=\"edge\">\n<title>MARCAVELICA&#45;&#45;SAMAN</title>\n<path fill=\"none\" stroke=\"#000000\" d=\"M790.3902,-524.1851C800.2423,-518.8314 810.2377,-512.1081 818,-504 852.9135,-467.5311 834.4215,-439.7018 868,-402 877.8394,-390.9524 885.2038,-394.1146 896,-384 923.8292,-357.9278 915.6626,-336.7299 947,-315 971.5845,-297.9527 1004.1585,-288.9199 1030.0272,-284.1661\"/>\n<text text-anchor=\"middle\" x=\"881.5\" y=\"-405.8\" font-family=\"Times,serif\" font-size=\"14.00\" fill=\"#000000\">8.39</text>\n</g>\n<!-- MARCAVELICA&#45;&#45;SAN MIGUEL DE TANGARARA -->\n<g id=\"edge74\" class=\"edge\">\n<title>MARCAVELICA&#45;&#45;SAN MIGUEL DE TANGARARA</title>\n<path fill=\"none\" stroke=\"#000000\" d=\"M762.7501,-521.9314C770.2751,-508.389 779.867,-489.1436 785,-471 799.9644,-418.1049 768.3967,-394.3192 798,-348 845.4044,-273.828 941.7903,-230.0949 1003.2352,-208.6165\"/>\n<text text-anchor=\"middle\" x=\"815\" y=\"-362.3\" font-family=\"Times,serif\" font-size=\"14.00\" fill=\"#000000\">13.49</text>\n</g>\n<!-- MARCAVELICA&#45;&#45;SAN ROLANDO -->\n<g id=\"edge75\" class=\"edge\">\n<title>MARCAVELICA&#45;&#45;SAN ROLANDO</title>\n<path fill=\"none\" stroke=\"#000000\" d=\"M718.4018,-523.5245C663.1117,-493.9397 556.87,-425.8355 535,-330 517.4939,-253.2874 555.3553,-161.4001 573.737,-123.1205\"/>\n<text text-anchor=\"middle\" x=\"552\" y=\"-318.8\" font-family=\"Times,serif\" font-size=\"14.00\" fill=\"#000000\">13.98</text>\n</g>\n<!-- MARCAVELICA&#45;&#45;VISTA FLORIDA -->\n<g id=\"edge76\" class=\"edge\">\n<title>MARCAVELICA&#45;&#45;VISTA FLORIDA</title>\n<path fill=\"none\" stroke=\"#000000\" d=\"M705.6657,-525.2536C673.1532,-513.5818 629.6529,-495.2161 596,-471 577.1164,-457.4117 575.3985,-450.4443 558,-435 486.2486,-371.308 448.103,-374.8292 392,-297 349.0108,-237.363 301.0979,-205.1536 337,-141 359.4095,-100.9564 382.6028,-104.5543 425,-87 483.2657,-62.8754 500.6798,-63.6476 563,-54 708.0462,-31.5458 879.1785,-23.0383 977.789,-19.8564\"/>\n<text text-anchor=\"middle\" x=\"405.5\" y=\"-275.3\" font-family=\"Times,serif\" font-size=\"14.00\" fill=\"#000000\">3.95</text>\n</g>\n<!-- MONTERON&#45;&#45;SAMAN CHICO -->\n<g id=\"edge77\" class=\"edge\">\n<title>MONTERON&#45;&#45;SAMAN CHICO</title>\n<path fill=\"none\" stroke=\"#000000\" d=\"M764.4143,-442.546C820.7413,-431.5324 912.9727,-414.1348 993,-402 1069.6457,-390.378 1157.9406,-379.9973 1217.8086,-373.4044\"/>\n<text text-anchor=\"middle\" x=\"1006.5\" y=\"-405.8\" font-family=\"Times,serif\" font-size=\"14.00\" fill=\"#000000\">8.83</text>\n</g>\n<!-- MONTERON&#45;&#45;SAMAN -->\n<g id=\"edge78\" class=\"edge\">\n<title>MONTERON&#45;&#45;SAMAN</title>\n<path fill=\"none\" stroke=\"#000000\" d=\"M746.5613,-437.7018C772.5762,-425.2861 808.355,-406.2332 836,-384 867.8967,-358.3474 861.5661,-335.4914 897,-315 919.2064,-302.158 985.5457,-290.9554 1030.131,-284.5878\"/>\n<text text-anchor=\"middle\" x=\"878.5\" y=\"-362.3\" font-family=\"Times,serif\" font-size=\"14.00\" fill=\"#000000\">6.15</text>\n</g>\n<!-- MONTERON&#45;&#45;SAN MIGUEL DE TANGARARA -->\n<g id=\"edge79\" class=\"edge\">\n<title>MONTERON&#45;&#45;SAN MIGUEL DE TANGARARA</title>\n<path fill=\"none\" stroke=\"#000000\" d=\"M718.2631,-434.9976C735.5577,-386.3547 785.133,-254.1855 822,-228 827.8848,-223.8202 897.0106,-213.5961 959.0965,-205.1074\"/>\n<text text-anchor=\"middle\" x=\"779.5\" y=\"-318.8\" font-family=\"Times,serif\" font-size=\"14.00\" fill=\"#000000\">2.88</text>\n</g>\n<!-- MONTERON&#45;&#45;SAN ROLANDO -->\n<g id=\"edge80\" class=\"edge\">\n<title>MONTERON&#45;&#45;SAN ROLANDO</title>\n<path fill=\"none\" stroke=\"#000000\" d=\"M703.1494,-435.0614C689.2014,-406.3656 661.7661,-348.1569 643,-297 618.1056,-229.1372 620.3425,-209.4121 597,-141 595.0077,-135.161 592.6393,-128.8694 590.4224,-123.2046\"/>\n<text text-anchor=\"middle\" x=\"656.5\" y=\"-275.3\" font-family=\"Times,serif\" font-size=\"14.00\" fill=\"#000000\">4.92</text>\n</g>\n<!-- MONTERON&#45;&#45;VISTA FLORIDA -->\n<g id=\"edge81\" class=\"edge\">\n<title>MONTERON&#45;&#45;VISTA FLORIDA</title>\n<path fill=\"none\" stroke=\"#000000\" d=\"M666.8327,-440.041C634.6074,-429.0831 591.714,-410.8325 561,-384 466.458,-301.4057 358.7366,-252.1997 417,-141 436.5685,-103.6523 455.5935,-101.9967 495,-87 582.01,-53.8871 847.3149,-32.0931 980.6992,-22.9279\"/>\n<text text-anchor=\"middle\" x=\"424.5\" y=\"-231.8\" font-family=\"Times,serif\" font-size=\"14.00\" fill=\"#000000\">6.76</text>\n</g>\n<!-- SAMAN CHICO&#45;&#45;SAMAN -->\n<g id=\"edge82\" class=\"edge\">\n<title>SAMAN CHICO&#45;&#45;SAMAN</title>\n<path fill=\"none\" stroke=\"#000000\" d=\"M1261.3424,-348.9208C1243.6237,-338.1124 1219.5507,-324.4464 1197,-315 1169.3976,-303.4375 1136.8624,-294.1443 1112.0454,-287.8979\"/>\n<text text-anchor=\"middle\" x=\"1241.5\" y=\"-318.8\" font-family=\"Times,serif\" font-size=\"14.00\" fill=\"#000000\">2.75</text>\n</g>\n<!-- SAMAN CHICO&#45;&#45;SAN MIGUEL DE TANGARARA -->\n<g id=\"edge83\" class=\"edge\">\n<title>SAMAN CHICO&#45;&#45;SAN MIGUEL DE TANGARARA</title>\n<path fill=\"none\" stroke=\"#000000\" d=\"M1280.5264,-348.0179C1275.5353,-337.5251 1268.2008,-324.5223 1259,-315 1212.4059,-266.7775 1143.1111,-229.7409 1099.5287,-209.426\"/>\n<text text-anchor=\"middle\" x=\"1256\" y=\"-275.3\" font-family=\"Times,serif\" font-size=\"14.00\" fill=\"#000000\">11.18</text>\n</g>\n<!-- SAMAN CHICO&#45;&#45;SAN ROLANDO -->\n<g id=\"edge84\" class=\"edge\">\n<title>SAMAN CHICO&#45;&#45;SAN ROLANDO</title>\n<path fill=\"none\" stroke=\"#000000\" d=\"M1232.4113,-353.4929C1177.6895,-340.771 1091.9565,-319.7392 1019,-297 912.2748,-263.7357 885.1499,-255.4113 783,-210 720.647,-182.2807 650.6601,-143.7349 612.2222,-121.8856\"/>\n<text text-anchor=\"middle\" x=\"868.5\" y=\"-231.8\" font-family=\"Times,serif\" font-size=\"14.00\" fill=\"#000000\">8.2</text>\n</g>\n<!-- SAMAN CHICO&#45;&#45;VISTA FLORIDA -->\n<g id=\"edge85\" class=\"edge\">\n<title>SAMAN CHICO&#45;&#45;VISTA FLORIDA</title>\n<path fill=\"none\" stroke=\"#000000\" d=\"M1287.7466,-347.8494C1286.3904,-307.5202 1278.6151,-208.6858 1236,-141 1203.2029,-88.9083 1139.4707,-52.975 1098.102,-33.9431\"/>\n<text text-anchor=\"middle\" x=\"1279.5\" y=\"-188.3\" font-family=\"Times,serif\" font-size=\"14.00\" fill=\"#000000\">7.34</text>\n</g>\n<!-- SAMAN&#45;&#45;SAN MIGUEL DE TANGARARA -->\n<g id=\"edge86\" class=\"edge\">\n<title>SAMAN&#45;&#45;SAN MIGUEL DE TANGARARA</title>\n<path fill=\"none\" stroke=\"#000000\" d=\"M1070.0992,-260.9735C1067.6964,-246.0422 1064.2988,-224.9283 1061.8971,-210.0034\"/>\n<text text-anchor=\"middle\" x=\"1080.5\" y=\"-231.8\" font-family=\"Times,serif\" font-size=\"14.00\" fill=\"#000000\">8.65</text>\n</g>\n<!-- SAMAN&#45;&#45;SAN ROLANDO -->\n<g id=\"edge87\" class=\"edge\">\n<title>SAMAN&#45;&#45;SAN ROLANDO</title>\n<path fill=\"none\" stroke=\"#000000\" d=\"M1038.7348,-267.1772C999.7152,-253.6441 934.1036,-230.6752 878,-210 797.6087,-180.3743 778.9216,-169.145 698,-141 676.1656,-133.4059 651.7544,-125.6603 631.0589,-119.309\"/>\n<text text-anchor=\"middle\" x=\"891.5\" y=\"-188.3\" font-family=\"Times,serif\" font-size=\"14.00\" fill=\"#000000\">6.51</text>\n</g>\n<!-- SAMAN&#45;&#45;VISTA FLORIDA -->\n<g id=\"edge88\" class=\"edge\">\n<title>SAMAN&#45;&#45;VISTA FLORIDA</title>\n<path fill=\"none\" stroke=\"#000000\" d=\"M1113.7587,-271.1466C1146.8607,-262.3894 1191.4607,-244.6291 1213,-210 1221.4507,-196.4137 1219.0752,-188.8017 1213,-174 1187.2786,-111.3319 1122.8732,-60.392 1086.0141,-35.1682\"/>\n<text text-anchor=\"middle\" x=\"1218.5\" y=\"-144.8\" font-family=\"Times,serif\" font-size=\"14.00\" fill=\"#000000\">5.43</text>\n</g>\n<!-- SAN MIGUEL DE TANGARARA&#45;&#45;SAN ROLANDO -->\n<g id=\"edge89\" class=\"edge\">\n<title>SAN MIGUEL DE TANGARARA&#45;&#45;SAN ROLANDO</title>\n<path fill=\"none\" stroke=\"#000000\" d=\"M1007.239,-175.1321C971.318,-163.9916 922.1725,-149.8641 878,-141 803.6375,-126.0776 717.4062,-116.4225 657.4559,-110.9058\"/>\n<text text-anchor=\"middle\" x=\"952.5\" y=\"-144.8\" font-family=\"Times,serif\" font-size=\"14.00\" fill=\"#000000\">4.94</text>\n</g>\n<!-- SAN MIGUEL DE TANGARARA&#45;&#45;VISTA FLORIDA -->\n<g id=\"edge90\" class=\"edge\">\n<title>SAN MIGUEL DE TANGARARA&#45;&#45;VISTA FLORIDA</title>\n<path fill=\"none\" stroke=\"#000000\" d=\"M1059,-173.7078C1059,-140.2024 1059,-69.3695 1059,-36.0471\"/>\n<text text-anchor=\"middle\" x=\"1072.5\" y=\"-101.3\" font-family=\"Times,serif\" font-size=\"14.00\" fill=\"#000000\">9.58</text>\n</g>\n<!-- SAN ROLANDO&#45;&#45;VISTA FLORIDA -->\n<g id=\"edge91\" class=\"edge\">\n<title>SAN ROLANDO&#45;&#45;VISTA FLORIDA</title>\n<path fill=\"none\" stroke=\"#000000\" d=\"M644.7407,-93.7155C735.6763,-77.0949 904.7146,-46.1992 996.2335,-29.472\"/>\n<text text-anchor=\"middle\" x=\"867\" y=\"-57.8\" font-family=\"Times,serif\" font-size=\"14.00\" fill=\"#000000\">10.19</text>\n</g>\n</g>\n</svg>\n"
          },
          "metadata": {
            "tags": []
          },
          "execution_count": 9
        }
      ]
    },
    {
      "cell_type": "markdown",
      "metadata": {
        "id": "KODTLLXS4sjK"
      },
      "source": [
        "# Traveling Salesman Problem"
      ]
    },
    {
      "cell_type": "markdown",
      "metadata": {
        "id": "4ad-HSegLqgG"
      },
      "source": [
        "#### Recorriendo el grafo con el algoritmo de dijkstra\n"
      ]
    },
    {
      "cell_type": "code",
      "metadata": {
        "id": "DCS1I2-8C_IL"
      },
      "source": [
        "def dijkstra(G, s):\n",
        "  for u in G.nodes:\n",
        "    G.nodes[u]['visited'] = False\n",
        "    G.nodes[u]['path']    = -1\n",
        "    G.nodes[u]['cost']    = math.inf\n",
        "\n",
        "  G.nodes[s]['cost'] = 0\n",
        "  solution = []\n",
        "  solution.append(s)\n",
        "  cost = 0\n",
        "  q = [(0, s)]\n",
        "  temp = ''\n",
        "  while q:\n",
        "    g_u, u = hq.heappop(q)\n",
        "    if not G.nodes[u]['visited']:\n",
        "      G.nodes[u]['visited'] = True\n",
        "      for v in G.neighbors(u):\n",
        "        if not G.nodes[v]['visited']:\n",
        "          w_uv = G.edges[u, v]['weight']\n",
        "          f_v  = g_u + w_uv\n",
        "          g_v  = G.nodes[v]['cost']\n",
        "          if f_v < g_v:\n",
        "            G.nodes[v]['cost'] = f_v\n",
        "            temp = v\n",
        "            cost += f_v\n",
        "            hq.heappush(q, (f_v, v))\n",
        "            solution.append(temp)\n",
        "\n",
        "  cost +=  G.edges[solution[-1], s]['weight'] #regresar al inicio\n",
        "  solution.append(s)\n",
        "\n",
        "  return cost, solution"
      ],
      "execution_count": null,
      "outputs": []
    },
    {
      "cell_type": "markdown",
      "metadata": {
        "id": "g8xh0cAKDnNv"
      },
      "source": [
        "### Enviar todos los centros poblados y escoger el minimo recorrido"
      ]
    },
    {
      "cell_type": "code",
      "metadata": {
        "id": "BOvKdnmBGcdf"
      },
      "source": [
        "def algoritm_TSP(G):\n",
        "  min = math.inf\n",
        "  path = []\n",
        "  for v in G.nodes:\n",
        "    c,sol = dijkstra(G,v)\n",
        "    if c<min:\n",
        "      min = c\n",
        "      path = sol\n",
        "\n",
        "  #return min, path\n",
        "  print(\"En el distrito de: \",nom_distrito,\" la mínima distancia de recorrido para pasar por todos los centros poblados es de: \", end =\"\")\n",
        "  print(min,\" km.\")\n",
        "  print(\"El recorrido a seguir es: \")\n",
        "  for i in range(len(path)):\n",
        "    if i == len(path)-1:\n",
        "      print(path[i])\n",
        "    else:\n",
        "      print(path[i], \" --> \",end=\"\")\n"
      ],
      "execution_count": null,
      "outputs": []
    },
    {
      "cell_type": "code",
      "metadata": {
        "colab": {
          "base_uri": "https://localhost:8080/"
        },
        "id": "ecWpxMXKFKUZ",
        "outputId": "c00c1a99-9b18-4b18-a234-8b16dd525a1c"
      },
      "source": [
        "algoritm_TSP(G)"
      ],
      "execution_count": null,
      "outputs": [
        {
          "output_type": "stream",
          "text": [
            "En el distrito de:  MARCAVELICA  la mínima distancia de recorrido para pasar por todos los centros poblados es de: 85.20999999999998  km.\n",
            "El recorrido a seguir es: \n",
            "LA SEGUNDA  --> CAÑAS  --> EL YUCAL  --> LA NORIA  --> LA QUINTA  --> LAS PALMERAS  --> MALLARITOS  --> MARCAVELICA  --> MONTERON  --> SAMAN CHICO  --> SAMAN  --> SAN MIGUEL DE TANGARARA  --> SAN ROLANDO  --> VISTA FLORIDA  --> LA SEGUNDA\n"
          ],
          "name": "stdout"
        }
      ]
    }
  ]
}